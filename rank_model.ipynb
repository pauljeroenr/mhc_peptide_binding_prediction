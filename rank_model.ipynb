{
 "cells": [
  {
   "cell_type": "code",
   "execution_count": 5,
   "metadata": {},
   "outputs": [],
   "source": [
    "from mhcflurry import Class1AffinityPredictor\n",
    "import pandas as pd\n",
    "import numpy as np"
   ]
  },
  {
   "cell_type": "code",
   "execution_count": 34,
   "metadata": {},
   "outputs": [],
   "source": [
    "def reverse_log_transformation(y):\n",
    "    return(np.exp(-1*(y * np.log(50000) - 1)))\n",
    "\n",
    "def mean_squared(data, allele_name, modelname):\n",
    "    '''input data as dataframe containing column pred and true\n",
    "       input allele_name - name of the allele as string'''\n",
    "    error = data.pred - data.true\n",
    "    error2 = np.square(error)\n",
    "    mse = np.mean(error2)\n",
    "    return({allele_name + modelname: mse})\n",
    "\n",
    "# need to change weight name in mhc flurry library to work on windows\n",
    "def mhcflurry_test(data, allele_name):\n",
    "    '''input data as dataframe containing column allele, peptide, measurement_value\n",
    "       input allele_name - name of the allele as string'''\n",
    "    predictor = Class1AffinityPredictor.load()\n",
    "    data = data[data.allele == allele_name]\n",
    "    mhcflurry_data = predictor.predict(allele=allele_name, peptides=data.peptide.tolist())\n",
    "    output_data = pd.DataFrame(list(zip(mhcflurry_data,\n",
    "                                      data.measurement_value.tolist(),\n",
    "                                      data.allele.tolist(),\n",
    "                                      data.peptide.tolist())), \n",
    "                             columns =['pred', 'true',\n",
    "                                       'allele', 'peptide'])\n",
    "    return(output_data)\n",
    "\n",
    "def mymodel_test():\n",
    "    \n",
    "    return()"
   ]
  }
 ],
 "metadata": {
  "kernelspec": {
   "display_name": "Python 3",
   "language": "python",
   "name": "python3"
  },
  "language_info": {
   "codemirror_mode": {
    "name": "ipython",
    "version": 3
   },
   "file_extension": ".py",
   "mimetype": "text/x-python",
   "name": "python",
   "nbconvert_exporter": "python",
   "pygments_lexer": "ipython3",
   "version": "3.7.5"
  }
 },
 "nbformat": 4,
 "nbformat_minor": 4
}
