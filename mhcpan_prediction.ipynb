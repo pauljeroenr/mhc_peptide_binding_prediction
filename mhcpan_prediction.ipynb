{
 "cells": [
  {
   "cell_type": "code",
   "execution_count": 167,
   "metadata": {},
   "outputs": [],
   "source": [
    "import pandas as pd\n",
    "from mhcflurry import Class1AffinityPredictor\n",
    "import os\n",
    "import mhcnames\n",
    "import rank_model\n",
    "import numpy as np"
   ]
  },
  {
   "cell_type": "code",
   "execution_count": 101,
   "metadata": {},
   "outputs": [],
   "source": [
    "def normalize(s, disallowed=[\"MIC\", \"HFE\"]):\n",
    "    if any(item in s for item in disallowed):\n",
    "        return None\n",
    "    try:\n",
    "        return mhcnames.normalize_allele_name(s)\n",
    "    except:\n",
    "        while s:\n",
    "            s = \":\".join(s.split(\":\")[:-1])\n",
    "            try:\n",
    "                return mhcnames.normalize_allele_name(s)\n",
    "            except:\n",
    "                pass\n",
    "        return None"
   ]
  },
  {
   "cell_type": "code",
   "execution_count": 20,
   "metadata": {},
   "outputs": [],
   "source": [
    "allele_names = pd.read_csv(\"C:/Users/paul_/OneDrive/Desktop/master-thesis/data/new_model_testset.csv\").allele.unique()\n",
    "predictor = Class1AffinityPredictor.load()\n",
    "\n",
    "mhc_names = list(set(allele_names.tolist()) & set(predictor.supported_alleles))\n"
   ]
  },
  {
   "cell_type": "code",
   "execution_count": 49,
   "metadata": {},
   "outputs": [],
   "source": [
    "def replace_all(text, dic):\n",
    "    for i, j in dic.items():\n",
    "        text = text.replace(i, j)\n",
    "    return text"
   ]
  },
  {
   "cell_type": "code",
   "execution_count": 51,
   "metadata": {},
   "outputs": [],
   "source": [
    "data = pd.read_csv(\"C:/Users/paul_/OneDrive/Desktop/master-thesis/data/new_model_testset.csv\")\n",
    "mask = (data['peptide'].str.len() >= 8) & (data['peptide'].str.len() <= 15)\n",
    "test_data = data.loc[mask]\n",
    "test_data[test_data.allele.isin(mhc_names)]\n",
    "\n",
    "d = { \"*\": \"_\", \":\": \"_\"}\n",
    "\n",
    "\n",
    "for i in mhc_names:\n",
    "    \n",
    "    df = test_data[test_data.allele == i]\n",
    "    \n",
    "    name = replace_all(i, d)\n",
    "    df.peptide.to_csv(\"C:/Users/paul_/OneDrive/Desktop/master-thesis/data/netmhc/netmhcpan_\" + name + \".csv\")"
   ]
  },
  {
   "cell_type": "code",
   "execution_count": 89,
   "metadata": {},
   "outputs": [],
   "source": [
    "directory = \"C:/Users/paul_/OneDrive/Desktop/master-thesis/data/netmhc\"\n",
    "list_df = []\n",
    "\n",
    "for filename in os.listdir(directory):\n",
    "    if filename.endswith(\".xls\"): \n",
    "        head = pd.read_csv(os.path.join(directory, filename), sep='\\t', lineterminator='\\r')\n",
    "        mhc_typ = list(head.columns)[3]\n",
    "        data = pd.read_csv(os.path.join(directory, filename), sep='\\t', lineterminator='\\r', skiprows =1)\n",
    "        data = data.loc[:, [\"Peptide\", 'nM']]\n",
    "        data['mhc'] = list(head.columns)[3]\n",
    "        data['mhcpan_version'] = filename[6]\n",
    "        list_df.append(data)\n",
    "        continue\n",
    "    else:\n",
    "        continue"
   ]
  },
  {
   "cell_type": "code",
   "execution_count": 131,
   "metadata": {},
   "outputs": [],
   "source": [
    "mhcpan_data = pd.concat(list_df)\n",
    "mhcpan_data.dropna().reset_index(drop=True)\n",
    "mhcpan_data['allele'] = mhcpan_data['mhc'].apply(normalize)\n",
    "mhcpan_data['prediction'] = mhcpan_data['nM']\n",
    "mhcpan_data = mhcpan_data.loc[:, ['Peptide', 'prediction', 'mhcpan_version', 'allele']]\n",
    "mhcpan_data = mhcpan_data.drop_duplicates().reset_index(drop = True)"
   ]
  },
  {
   "cell_type": "code",
   "execution_count": 143,
   "metadata": {},
   "outputs": [],
   "source": [
    "complete_data = pd.merge(mhcpan_data,\n",
    "                         test_data.loc[:, ['peptide', 'allele', 'measurement_value']],\n",
    "                         left_on = [\"Peptide\", 'allele'],\n",
    "                         right_on = [\"peptide\", 'allele'],\n",
    "                         how='inner')\n",
    "complete_data.rename(columns={'measurement_value':'true',\n",
    "                          'prediction':'pred'}, \n",
    "                     inplace=True)"
   ]
  },
  {
   "cell_type": "code",
   "execution_count": 150,
   "metadata": {},
   "outputs": [
    {
     "data": {
      "text/html": [
       "<div>\n",
       "<style scoped>\n",
       "    .dataframe tbody tr th:only-of-type {\n",
       "        vertical-align: middle;\n",
       "    }\n",
       "\n",
       "    .dataframe tbody tr th {\n",
       "        vertical-align: top;\n",
       "    }\n",
       "\n",
       "    .dataframe thead th {\n",
       "        text-align: right;\n",
       "    }\n",
       "</style>\n",
       "<table border=\"1\" class=\"dataframe\">\n",
       "  <thead>\n",
       "    <tr style=\"text-align: right;\">\n",
       "      <th></th>\n",
       "      <th>Peptide</th>\n",
       "      <th>pred</th>\n",
       "      <th>mhcpan_version</th>\n",
       "      <th>allele</th>\n",
       "      <th>peptide</th>\n",
       "      <th>true</th>\n",
       "    </tr>\n",
       "  </thead>\n",
       "  <tbody>\n",
       "    <tr>\n",
       "      <th>0</th>\n",
       "      <td>AAIRGNDVI</td>\n",
       "      <td>74.1739</td>\n",
       "      <td>3</td>\n",
       "      <td>H-2-Db</td>\n",
       "      <td>AAIRGNDVI</td>\n",
       "      <td>10.7505</td>\n",
       "    </tr>\n",
       "    <tr>\n",
       "      <th>1</th>\n",
       "      <td>AAIRGNDVI</td>\n",
       "      <td>74.1739</td>\n",
       "      <td>3</td>\n",
       "      <td>H-2-Db</td>\n",
       "      <td>AAIRGNDVI</td>\n",
       "      <td>10.8000</td>\n",
       "    </tr>\n",
       "    <tr>\n",
       "      <th>4</th>\n",
       "      <td>ALPTNEFISFL</td>\n",
       "      <td>4027.1538</td>\n",
       "      <td>3</td>\n",
       "      <td>H-2-Db</td>\n",
       "      <td>ALPTNEFISFL</td>\n",
       "      <td>79.2139</td>\n",
       "    </tr>\n",
       "    <tr>\n",
       "      <th>5</th>\n",
       "      <td>ALPTNEFISFL</td>\n",
       "      <td>4027.1538</td>\n",
       "      <td>3</td>\n",
       "      <td>H-2-Db</td>\n",
       "      <td>ALPTNEFISFL</td>\n",
       "      <td>79.2000</td>\n",
       "    </tr>\n",
       "    <tr>\n",
       "      <th>8</th>\n",
       "      <td>APGSPTNLEFI</td>\n",
       "      <td>370.4219</td>\n",
       "      <td>3</td>\n",
       "      <td>H-2-Db</td>\n",
       "      <td>APGSPTNLEFI</td>\n",
       "      <td>14.0395</td>\n",
       "    </tr>\n",
       "  </tbody>\n",
       "</table>\n",
       "</div>"
      ],
      "text/plain": [
       "       Peptide       pred mhcpan_version  allele      peptide     true\n",
       "0    AAIRGNDVI    74.1739              3  H-2-Db    AAIRGNDVI  10.7505\n",
       "1    AAIRGNDVI    74.1739              3  H-2-Db    AAIRGNDVI  10.8000\n",
       "4  ALPTNEFISFL  4027.1538              3  H-2-Db  ALPTNEFISFL  79.2139\n",
       "5  ALPTNEFISFL  4027.1538              3  H-2-Db  ALPTNEFISFL  79.2000\n",
       "8  APGSPTNLEFI   370.4219              3  H-2-Db  APGSPTNLEFI  14.0395"
      ]
     },
     "execution_count": 150,
     "metadata": {},
     "output_type": "execute_result"
    }
   ],
   "source": [
    "allele_df = complete_data[complete_data['allele'] == str('H-2-Db')]\n",
    "allele_df[allele_df['mhcpan_version'] == str(3)].head()"
   ]
  },
  {
   "cell_type": "code",
   "execution_count": 172,
   "metadata": {},
   "outputs": [
    {
     "name": "stdout",
     "output_type": "stream",
     "text": [
      "Mamu-A*01:01\n"
     ]
    }
   ],
   "source": [
    "mhc_names = list(set(allele_names.tolist()) & set(predictor.supported_alleles))\n",
    "combined_dict = {}\n",
    "len_dict = {}\n",
    "\n",
    "for i in mhc_names:\n",
    "    if i == \"Mamu-A*01:01\":\n",
    "        print(i)\n",
    "    else:\n",
    "        loop_df = complete_data[complete_data['allele'] == str(i)]\n",
    "        error_dict_netmhc3, len_dict_netmhc3 = rank_model.root_mean_squared(loop_df[loop_df['mhcpan_version'] == str(3)], str(i), \"netmhc3\")\n",
    "        error_dict_netmhc4, len_dict_netmhc4 = rank_model.root_mean_squared(loop_df[loop_df['mhcpan_version'] == str(4)], str(i), \"netmhc4\")\n",
    "        len_dict.update(len_dict_netmhc3)\n",
    "        combined_dict.update(error_dict_netmhc3)\n",
    "        len_dict.update(len_dict_netmhc4)\n",
    "        combined_dict.update(error_dict_netmhc4)"
   ]
  },
  {
   "cell_type": "code",
   "execution_count": 173,
   "metadata": {},
   "outputs": [
    {
     "data": {
      "text/plain": [
       "{'HLA-C*06:02netmhc3': 673.46,\n",
       " 'HLA-C*06:02netmhc4': 664.7986,\n",
       " 'HLA-A*03:01netmhc3': 183071.60158227387,\n",
       " 'HLA-A*03:01netmhc4': 183046.29313147717,\n",
       " 'H-2-Kbnetmhc3': 8344.708687567972,\n",
       " 'H-2-Kbnetmhc4': 8386.806046103065,\n",
       " 'HLA-A*11:01netmhc3': 4896.057780953406,\n",
       " 'HLA-A*11:01netmhc4': 5019.252430159365,\n",
       " 'HLA-A*68:01netmhc3': 7.103235879864895,\n",
       " 'HLA-A*68:01netmhc4': 13.77033802998314,\n",
       " 'HLA-B*58:01netmhc3': 1971.647715537852,\n",
       " 'HLA-B*58:01netmhc4': 2437.8959209294267,\n",
       " 'HLA-C*03:03netmhc3': 595.6867,\n",
       " 'HLA-C*03:03netmhc4': 538.6556,\n",
       " 'HLA-B*07:02netmhc3': 290702.3364150556,\n",
       " 'HLA-B*07:02netmhc4': 290660.16511980735,\n",
       " 'HLA-A*24:02netmhc3': 15185.153204932887,\n",
       " 'HLA-A*24:02netmhc4': 15086.564850557073,\n",
       " 'HLA-B*15:01netmhc3': 18773.430708507767,\n",
       " 'HLA-B*15:01netmhc4': 19176.395690068963,\n",
       " 'HLA-B*53:01netmhc3': 1677.7648945520239,\n",
       " 'HLA-B*53:01netmhc4': 1756.6716614282075,\n",
       " 'HLA-B*57:01netmhc3': 308.2082071913914,\n",
       " 'HLA-B*57:01netmhc4': 711.4158424107128,\n",
       " 'HLA-A*02:05netmhc3': 14725.62984468329,\n",
       " 'HLA-A*02:05netmhc4': 14846.717546900874,\n",
       " 'HLA-A*01:01netmhc3': 348321.07865131705,\n",
       " 'HLA-A*01:01netmhc4': 348365.09135399293,\n",
       " 'HLA-A*02:01netmhc3': 24337.443580201536,\n",
       " 'HLA-A*02:01netmhc4': 24256.85009691972,\n",
       " 'HLA-B*08:01netmhc3': 215.23482111087415,\n",
       " 'HLA-B*08:01netmhc4': 212.2724750907251,\n",
       " 'HLA-A*68:02netmhc3': 15.62335054781784,\n",
       " 'HLA-A*68:02netmhc4': 17.02058743287082,\n",
       " 'HLA-B*38:01netmhc3': 1930.9181604927264,\n",
       " 'HLA-B*38:01netmhc4': 1739.6575894507373,\n",
       " 'HLA-B*44:03netmhc3': 4380.5150487817955,\n",
       " 'HLA-B*44:03netmhc4': 4771.092597773685,\n",
       " 'HLA-B*18:01netmhc3': 15556.241190019531,\n",
       " 'HLA-B*18:01netmhc4': 15748.21929677001,\n",
       " 'HLA-B*44:02netmhc3': 414513.7594160134,\n",
       " 'HLA-B*44:02netmhc4': 414709.0823671415,\n",
       " 'HLA-B*27:05netmhc3': 4192.247491606385,\n",
       " 'HLA-B*27:05netmhc4': 3996.528731951438,\n",
       " 'HLA-B*27:02netmhc3': 30391.7230389765,\n",
       " 'HLA-B*27:02netmhc4': 31455.84692748924,\n",
       " 'HLA-B*35:01netmhc3': 25309.371116040085,\n",
       " 'HLA-B*35:01netmhc4': 25332.993787969313,\n",
       " 'H-2-Dbnetmhc3': 11451.769553302775,\n",
       " 'H-2-Dbnetmhc4': 11382.528947759576,\n",
       " 'HLA-B*51:01netmhc3': 115557.4942150318,\n",
       " 'HLA-B*51:01netmhc4': 116757.01777621472}"
      ]
     },
     "execution_count": 173,
     "metadata": {},
     "output_type": "execute_result"
    }
   ],
   "source": [
    "combined_dict"
   ]
  },
  {
   "cell_type": "code",
   "execution_count": 174,
   "metadata": {},
   "outputs": [
    {
     "data": {
      "text/plain": [
       "{'HLA-C*06:02netmhc3': 1,\n",
       " 'HLA-C*06:02netmhc4': 1,\n",
       " 'HLA-A*03:01netmhc3': 30,\n",
       " 'HLA-A*03:01netmhc4': 30,\n",
       " 'H-2-Kbnetmhc3': 106,\n",
       " 'H-2-Kbnetmhc4': 106,\n",
       " 'HLA-A*11:01netmhc3': 19,\n",
       " 'HLA-A*11:01netmhc4': 19,\n",
       " 'HLA-A*68:01netmhc3': 4,\n",
       " 'HLA-A*68:01netmhc4': 4,\n",
       " 'HLA-B*58:01netmhc3': 3,\n",
       " 'HLA-B*58:01netmhc4': 3,\n",
       " 'HLA-C*03:03netmhc3': 1,\n",
       " 'HLA-C*03:03netmhc4': 1,\n",
       " 'HLA-B*07:02netmhc3': 47,\n",
       " 'HLA-B*07:02netmhc4': 47,\n",
       " 'HLA-A*24:02netmhc3': 27,\n",
       " 'HLA-A*24:02netmhc4': 27,\n",
       " 'HLA-B*15:01netmhc3': 10,\n",
       " 'HLA-B*15:01netmhc4': 10,\n",
       " 'HLA-B*53:01netmhc3': 12,\n",
       " 'HLA-B*53:01netmhc4': 12,\n",
       " 'HLA-B*57:01netmhc3': 12,\n",
       " 'HLA-B*57:01netmhc4': 12,\n",
       " 'HLA-A*02:05netmhc3': 16,\n",
       " 'HLA-A*02:05netmhc4': 16,\n",
       " 'HLA-A*01:01netmhc3': 33,\n",
       " 'HLA-A*01:01netmhc4': 33,\n",
       " 'HLA-A*02:01netmhc3': 155,\n",
       " 'HLA-A*02:01netmhc4': 155,\n",
       " 'HLA-B*08:01netmhc3': 4,\n",
       " 'HLA-B*08:01netmhc4': 4,\n",
       " 'HLA-A*68:02netmhc3': 4,\n",
       " 'HLA-A*68:02netmhc4': 4,\n",
       " 'HLA-B*38:01netmhc3': 12,\n",
       " 'HLA-B*38:01netmhc4': 12,\n",
       " 'HLA-B*44:03netmhc3': 14,\n",
       " 'HLA-B*44:03netmhc4': 14,\n",
       " 'HLA-B*18:01netmhc3': 4,\n",
       " 'HLA-B*18:01netmhc4': 4,\n",
       " 'HLA-B*44:02netmhc3': 29,\n",
       " 'HLA-B*44:02netmhc4': 29,\n",
       " 'HLA-B*27:05netmhc3': 8,\n",
       " 'HLA-B*27:05netmhc4': 8,\n",
       " 'HLA-B*27:02netmhc3': 11,\n",
       " 'HLA-B*27:02netmhc4': 11,\n",
       " 'HLA-B*35:01netmhc3': 14,\n",
       " 'HLA-B*35:01netmhc4': 14,\n",
       " 'H-2-Dbnetmhc3': 133,\n",
       " 'H-2-Dbnetmhc4': 133,\n",
       " 'HLA-B*51:01netmhc3': 10,\n",
       " 'HLA-B*51:01netmhc4': 10}"
      ]
     },
     "execution_count": 174,
     "metadata": {},
     "output_type": "execute_result"
    }
   ],
   "source": [
    "len_dict"
   ]
  },
  {
   "cell_type": "code",
   "execution_count": 175,
   "metadata": {},
   "outputs": [
    {
     "name": "stdout",
     "output_type": "stream",
     "text": [
      "72090.9502087772\n",
      "59119.46956194531\n"
     ]
    }
   ],
   "source": [
    "weighted_a = np.average(a = np.array([value for key, value in combined_dict.items() if 'netmhc3' in key.lower()]),\n",
    "                        weights = np.array([value for key, value in len_dict.items() if 'netmhc3' in key.lower()]))\n",
    "a = np.mean(a = np.array([value for key, value in combined_dict.items() if 'netmhc3' in key.lower()]))\n",
    "print(weighted_a)\n",
    "print(a)"
   ]
  },
  {
   "cell_type": "code",
   "execution_count": 176,
   "metadata": {},
   "outputs": [
    {
     "name": "stdout",
     "output_type": "stream",
     "text": [
      "72127.56765750614\n",
      "59272.67712745496\n"
     ]
    }
   ],
   "source": [
    "weighted_b = np.average(a = np.array([value for key, value in combined_dict.items() if 'netmhc4' in key.lower()]),\n",
    "                        weights = np.array([value for key, value in len_dict.items() if 'netmhc4' in key.lower()]))\n",
    "b = np.mean([value for key, value in combined_dict.items() if 'netmhc4' in key.lower()])\n",
    "print(weighted_b)\n",
    "print(b)"
   ]
  },
  {
   "cell_type": "code",
   "execution_count": null,
   "metadata": {},
   "outputs": [],
   "source": []
  }
 ],
 "metadata": {
  "kernelspec": {
   "display_name": "Python 3",
   "language": "python",
   "name": "python3"
  },
  "language_info": {
   "codemirror_mode": {
    "name": "ipython",
    "version": 3
   },
   "file_extension": ".py",
   "mimetype": "text/x-python",
   "name": "python",
   "nbconvert_exporter": "python",
   "pygments_lexer": "ipython3",
   "version": "3.7.5"
  }
 },
 "nbformat": 4,
 "nbformat_minor": 4
}
