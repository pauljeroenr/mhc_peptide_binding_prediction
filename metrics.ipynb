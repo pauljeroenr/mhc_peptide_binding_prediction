{
 "cells": [
  {
   "cell_type": "code",
   "execution_count": 68,
   "metadata": {},
   "outputs": [],
   "source": [
    "import unittest\n",
    "import torch\n",
    "from torch import nn\n",
    "from scipy.stats import spearmanr, pearsonr"
   ]
  },
  {
   "cell_type": "code",
   "execution_count": 69,
   "metadata": {},
   "outputs": [],
   "source": [
    "def spearmanr_torch(prediction, target):\n",
    "    'Spearmans rank correlation coefficient for torch_Tensors'\n",
    "    return spearmanr(prediction.detach(),target.detach())[0] ##[0] just returns the rho-value\n",
    "\n",
    "def pearsonr_torch(prediction, target):\n",
    "    'Pearson r correlation coefficient for torch_Tensors'\n",
    "    return pearsonr(prediction.detach(), target.detach())[0] ##[0] just returns the r-value\n",
    "\n",
    "def select_criterion(method='MSE'):\n",
    "    if method == 'MSE':\n",
    "        return nn.MSELoss()\n",
    "    elif method == 'CROSS_ENTROPY':\n",
    "        return nn.CrossEntropyLoss()\n",
    "    elif method == 'L1':\n",
    "        return nn.L1Loss()\n",
    "    elif method == 'SmoothL1':\n",
    "        return nn.SmoothL1()\n",
    "    elif method == 'KLDiv':\n",
    "        return nn.KLDivLoss()\n",
    "    elif method == 'BCELoss':\n",
    "        return nn.BCELoss()\n",
    "    else:\n",
    "        raise NotImplementedError"
   ]
  },
  {
   "cell_type": "code",
   "execution_count": 70,
   "metadata": {},
   "outputs": [
    {
     "name": "stderr",
     "output_type": "stream",
     "text": [
      "test_pearsonr_torch (__main__.metrics_test) ... ok\n",
      "test_select_criterion (__main__.metrics_test) ... ok\n",
      "test_spearmanr_torch (__main__.metrics_test) ... ok\n",
      "\n",
      "----------------------------------------------------------------------\n",
      "Ran 3 tests in 0.013s\n",
      "\n",
      "OK\n"
     ]
    }
   ],
   "source": [
    "class metrics_test(unittest.TestCase):\n",
    "\n",
    "    def test_pearsonr_torch(self):\n",
    "        self.assertAlmostEqual(pearsonr_torch(torch.tensor([0.2, 0.6, 1.0]), torch.tensor([0.5, 0.1, 1])), 0.5544, places=4)\n",
    "    def test_spearmanr_torch(self):    \n",
    "        self.assertAlmostEqual(spearmanr_torch(torch.tensor([0.2, 0.6, 1.0]), torch.tensor([0.5, 0.1, 1])), 0.5, places=4)\n",
    "    def test_select_criterion(self):\n",
    "        self.assertEqual(type(select_criterion()), torch.nn.modules.loss.MSELoss)\n",
    "        self.assertEqual(type(select_criterion(method = \"L1\")), torch.nn.modules.loss.L1Loss)\n",
    "        self.assertRaises(NotImplementedError, select_criterion, \"nonimplemented\")\n",
    "        \n",
    "        self.mseloss = select_criterion()\n",
    "        self.assertEqual(self.mseloss(torch.tensor(1.0), torch.tensor(3.0)), torch.tensor(4.))\n",
    "\n",
    "if __name__ == \"__main__\":\n",
    "    unittest.main(argv=[''], verbosity=2, exit=False)"
   ]
  }
 ],
 "metadata": {
  "kernelspec": {
   "display_name": "Python 3",
   "language": "python",
   "name": "python3"
  },
  "language_info": {
   "codemirror_mode": {
    "name": "ipython",
    "version": 3
   },
   "file_extension": ".py",
   "mimetype": "text/x-python",
   "name": "python",
   "nbconvert_exporter": "python",
   "pygments_lexer": "ipython3",
   "version": "3.7.5"
  }
 },
 "nbformat": 4,
 "nbformat_minor": 4
}
