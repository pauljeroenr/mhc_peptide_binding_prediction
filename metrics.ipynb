{
 "cells": [
  {
   "cell_type": "code",
   "execution_count": 36,
   "metadata": {},
   "outputs": [],
   "source": [
    "import unittest\n",
    "import torch\n",
    "from torch import nn\n",
    "from scipy.stats import spearmanr, pearsonr"
   ]
  },
  {
   "cell_type": "code",
   "execution_count": 38,
   "metadata": {},
   "outputs": [],
   "source": [
    "def spearmanr_torch(prediction, target):\n",
    "    'Spearmans rank correlation coefficient for torch_Tensors'\n",
    "    return spearmanr(prediction.detach(),target.detach())[0] ##[0] just returns the rho-value\n",
    "\n",
    "def pearsonr_torch(prediction, target):\n",
    "    'Pearson r correlation coefficient for torch_Tensors'\n",
    "    return pearsonr(prediction.detach(), target.detach())[0] ##[0] just returns the r-value\n",
    "\n",
    "def select_criterion(method='MSE'):\n",
    "    if method == 'MSE':\n",
    "        return nn.MSELoss()\n",
    "    elif method == 'CROSS_ENTROPY':\n",
    "        return nn.CrossEntropyLoss()\n",
    "    elif method == 'L1':\n",
    "        return nn.L1Loss()\n",
    "    elif method == 'SmoothL1':\n",
    "        return nn.SmoothL1()\n",
    "    elif method == 'KLDiv':\n",
    "        return nn.KLDivLoss()\n",
    "    elif method == 'BCELoss':\n",
    "        return nn.BCELoss()\n",
    "    else:\n",
    "        raise NotImplementedError"
   ]
  },
  {
   "cell_type": "code",
   "execution_count": 39,
   "metadata": {},
   "outputs": [
    {
     "data": {
      "text/plain": [
       "MSELoss()"
      ]
     },
     "execution_count": 39,
     "metadata": {},
     "output_type": "execute_result"
    }
   ],
   "source": [
    "select_criterion()"
   ]
  },
  {
   "cell_type": "code",
   "execution_count": 32,
   "metadata": {},
   "outputs": [
    {
     "name": "stderr",
     "output_type": "stream",
     "text": [
      "test_pearsonr_torch (__main__.metrics_test) ... ok\n",
      "test_spearmanr_torch (__main__.metrics_test) ... ok\n",
      "\n",
      "----------------------------------------------------------------------\n",
      "Ran 2 tests in 0.006s\n",
      "\n",
      "OK\n"
     ]
    },
    {
     "data": {
      "text/plain": [
       "<unittest.main.TestProgram at 0x182289b1e08>"
      ]
     },
     "execution_count": 32,
     "metadata": {},
     "output_type": "execute_result"
    }
   ],
   "source": [
    "class metrics_test(unittest.TestCase):\n",
    "\n",
    "    def test_pearsonr_torch(self):\n",
    "        self.assertAlmostEqual(pearsonr_torch(torch.tensor([0.2, 0.6, 1.0]), torch.tensor([0.5, 0.1, 1])), 0.5544, places=4)\n",
    "    def test_spearmanr_torch(self):    \n",
    "        self.assertAlmostEqual(spearmanr_torch(torch.tensor([0.2, 0.6, 1.0]), torch.tensor([0.5, 0.1, 1])), 0.5, places=4)\n",
    "    def test_select_criterion(self):\n",
    "        \n",
    "\n",
    "unittest.main(argv=[''], verbosity=2, exit=False)"
   ]
  }
 ],
 "metadata": {
  "kernelspec": {
   "display_name": "Python 3",
   "language": "python",
   "name": "python3"
  },
  "language_info": {
   "codemirror_mode": {
    "name": "ipython",
    "version": 3
   },
   "file_extension": ".py",
   "mimetype": "text/x-python",
   "name": "python",
   "nbconvert_exporter": "python",
   "pygments_lexer": "ipython3",
   "version": "3.7.5"
  }
 },
 "nbformat": 4,
 "nbformat_minor": 4
}
