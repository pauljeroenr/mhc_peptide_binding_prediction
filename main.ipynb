{
 "cells": [
  {
   "cell_type": "code",
   "execution_count": 34,
   "metadata": {},
   "outputs": [],
   "source": [
    "import math\n",
    "import argparse\n",
    "import pandas as pd\n",
    "import random\n",
    "\n",
    "import matplotlib.pyplot as plt\n",
    "import torch\n",
    "import numpy as np\n",
    "\n",
    "from torchvision import transforms, utils\n",
    "from torch import nn \n",
    "import torch.optim as optim\n",
    "import torch.backends.cudnn as cudnn\n",
    "import torch.nn.functional as F\n",
    "\n",
    "import import_ipynb\n",
    "import metrics\n",
    "import data_transformation\n",
    "import train_validation\n",
    "import model_architecture\n",
    "import rank_model\n",
    "import utils\n",
    "import unittest\n",
    "from sklearn.model_selection import train_test_split  "
   ]
  },
  {
   "cell_type": "code",
   "execution_count": 22,
   "metadata": {},
   "outputs": [],
   "source": [
    "def test_modules(module_test):\n",
    "    \"\"\"Run unittest in imported files\"\"\"\n",
    "    \n",
    "    suite = unittest.TestLoader().loadTestsFromModule(module_test)\n",
    "    unittest.TextTestRunner(verbosity=1).run(suite)"
   ]
  },
  {
   "cell_type": "code",
   "execution_count": 23,
   "metadata": {},
   "outputs": [
    {
     "name": "stderr",
     "output_type": "stream",
     "text": [
      "..\n",
      "----------------------------------------------------------------------\n",
      "Ran 2 tests in 28.736s\n",
      "\n",
      "OK\n",
      "..\n",
      "----------------------------------------------------------------------\n",
      "Ran 2 tests in 0.090s\n",
      "\n",
      "OK\n",
      "..\n",
      "----------------------------------------------------------------------\n",
      "Ran 2 tests in 0.157s\n",
      "\n",
      "OK\n"
     ]
    }
   ],
   "source": [
    "testmodules = [data_transformation.data_class_test(), metrics.metrics_test(), utils.utils_test()]\n",
    "for test in testmodules:\n",
    "    test_modules(test)"
   ]
  },
  {
   "cell_type": "code",
   "execution_count": 24,
   "metadata": {},
   "outputs": [],
   "source": [
    "params = {\n",
    "    'batch_size': 32,\n",
    "    'save_model_path': \"conv3x3_7layer.chkpt\",#'resnet18_02dropout.chkpt',#\n",
    "    'epoch': 1,\n",
    "    'model': \"conv3x3\",#'ResNet18',#\n",
    "    'dropout': 0.7\n",
    "}\n",
    "# TODO add model description to checkpoint"
   ]
  },
  {
   "cell_type": "code",
   "execution_count": 35,
   "metadata": {},
   "outputs": [
    {
     "name": "stdout",
     "output_type": "stream",
     "text": [
      "(11705, 2, 34, 20)\n",
      "Model parameters: 88640\n",
      "Using CPU\n"
     ]
    }
   ],
   "source": [
    "data_class = data_transformation.data_transformation(path_data = \"/data/data_curated_20180219/curated_training_data_no_mass_spec.csv\",\n",
    "                                                     path_mhc = \"/data/aligned_mhc_dataset.csv\",\n",
    "                                                     allele_name = \"HLA-A*02:01\",\n",
    "                                                     quant_data = True,\n",
    "                                                     encoding = \"one-hot\")\n",
    "\n",
    "pep, mhc, target = data_class.__getitem__()\n",
    "\n",
    "pep = np.expand_dims(pep, axis=1)\n",
    "mhc = np.expand_dims(mhc, axis=1)\n",
    "inp = np.hstack((pep, mhc))\n",
    "print(inp.shape)\n",
    "\n",
    "X_train, X_test, y_train, y_test = train_test_split(inp, target.T, test_size=0.2, random_state=42)\n",
    "model = model_architecture.conv3x3(inputchannel = np.size(X_train, 3),\n",
    "                                   L = np.size(X_train, 2),\n",
    "                                   dropout = 0.7,\n",
    "                                   dropoutearly = 0.2)\n",
    "\n",
    "pytorch_total_params = sum(p.numel() for p in model.parameters())\n",
    "print(\"Model parameters: \" + str(pytorch_total_params) )\n",
    "if torch.cuda.device_count() > 0:\n",
    "    print('Using GPU' + str(utils.pick_gpu_lowest_memory()))\n",
    "    device = torch.device('cuda:' + str(utils.pick_gpu_lowest_memory()))\n",
    "else:\n",
    "    print('Using CPU')\n",
    "    device = torch.device('cpu')\n",
    "    \n",
    "model = model.to(device)\n",
    "criterion = metrics.select_criterion('MSE')\n",
    "optimizer = optim.Adam(\n",
    "        filter(lambda x: x.requires_grad, model.parameters()),\n",
    "        betas=(0.9, 0.98), eps=1e-09, weight_decay = 0.0)\n",
    "\n",
    "\n",
    "train_data = torch.utils.data.TensorDataset(torch.from_numpy(X_train).float(), torch.from_numpy(y_train))\n",
    "eval_data = torch.utils.data.TensorDataset(torch.from_numpy(X_test).float(), torch.from_numpy(y_test))\n",
    "\n",
    "train_dataloader = torch.utils.data.DataLoader(train_data,\n",
    "                              batch_size = params['batch_size'],\n",
    "                              shuffle = True, \n",
    "                              drop_last = True)\n",
    "eval_dataloader = torch.utils.data.DataLoader(eval_data,\n",
    "                              batch_size = params['batch_size'],\n",
    "                              shuffle = True,\n",
    "                              drop_last = True)"
   ]
  },
  {
   "cell_type": "code",
   "execution_count": null,
   "metadata": {},
   "outputs": [],
   "source": [
    "valid_losss, train_losses, valid_accus, train_accus, true_valid, pred_valid = train_validation.start_training(params['save_model_path'], params['epoch'], model,\n",
    "                                                                                                              train_dataloader, eval_dataloader, optimizer,\n",
    "                                                                                                              device, criterion)"
   ]
  },
  {
   "cell_type": "code",
   "execution_count": null,
   "metadata": {},
   "outputs": [],
   "source": [
    "valid_losss, train_losses, valid_accus, train_accus, true_valid, pred_valid = train_validation.continue_training(params['save_model_path'], params['epoch'], model, \n",
    "                                                                                                                 train_dataloader, eval_dataloader, optimizer, \n",
    "                                                                                                                 device, criterion)"
   ]
  },
  {
   "cell_type": "markdown",
   "metadata": {},
   "source": [
    "## Predict new Values"
   ]
  },
  {
   "cell_type": "code",
   "execution_count": 26,
   "metadata": {},
   "outputs": [],
   "source": [
    "def predict_mhc(allele_name):\n",
    "    data_class = data_transformation.data_transformation(path_data = \"/data/test_data_all_allele.csv\",\n",
    "                                                         path_mhc = \"/data/aligned_mhc_dataset.csv\",\n",
    "                                                         allele_name = allele_name,\n",
    "                                                         quant_data = True,\n",
    "                                                         encoding = \"one-hot\")\n",
    "\n",
    "    pep, mhc, target = data_class.__getitem__()\n",
    "\n",
    "    pep = np.expand_dims(pep, axis=1)\n",
    "    mhc = np.expand_dims(mhc, axis=1)\n",
    "    inp = np.hstack((pep, mhc))\n",
    "    print(inp.shape)\n",
    "\n",
    "    if params['model'] == 'conv3x3':\n",
    "      model = model_architecture.conv3x3(inputchannel = np.size(inp, 3),\n",
    "                                   L = np.size(inp, 2),\n",
    "                                   dropout = params['dropout'],\n",
    "                                   dropoutearly = 0.2)\n",
    "    elif params['model'] == 'convnet':\n",
    "      model = model_architecture.convnet(L = np.size(inp, 2),\n",
    "                                         I = np.size(inp, 3),\n",
    "                                         dropout = params['dropout'])\n",
    "    elif params['model'] == 'ResNet18':\n",
    "      model = model_architecture.ResNet(inputchannel = np.size(inp, 3),\n",
    "                                      block = model_architecture.BasicBlock, \n",
    "                                      num_blocks = [2,2,2,2],\n",
    "                                      num_classes = 1,\n",
    "                                      dropout = params['dropout'])\n",
    "\n",
    "    pytorch_total_params = sum(p.numel() for p in model.parameters())\n",
    "    print(\"Model parameters: \" + str(pytorch_total_params) )\n",
    "    if torch.cuda.device_count() > 0:\n",
    "        print('Using GPU' + str(utils.pick_gpu_lowest_memory()))\n",
    "        device = torch.device('cuda:' + str(utils.pick_gpu_lowest_memory()))\n",
    "    else:\n",
    "        print('Using CPU')\n",
    "        device = torch.device('cpu')\n",
    "\n",
    "    model = model.to(device)\n",
    "    criterion = metrics.select_criterion('MSE')\n",
    "    optimizer = optim.Adam(\n",
    "            filter(lambda x: x.requires_grad, model.parameters()),\n",
    "            betas=(0.9, 0.98), eps=1e-09, weight_decay = 0.0)\n",
    "\n",
    "    test_data = torch.utils.data.TensorDataset(torch.from_numpy(inp).float(), torch.from_numpy(target.T))\n",
    "\n",
    "    test_dataloader = torch.utils.data.DataLoader(test_data,\n",
    "                                  batch_size = 1,\n",
    "                                  shuffle = False,\n",
    "                                  drop_last = True)\n",
    "\n",
    "    a, b = train_validation.prediction_only(params['save_model_path'], model, test_dataloader, optimizer, device, criterion)\n",
    "    out_pred = np.concatenate(a).ravel()\n",
    "    out_true = np.concatenate(b).ravel()\n",
    "    mymodel_out = pd.DataFrame(list(zip(out_pred, out_true)), columns =['pred', 'true']).apply(lambda y: rank_model.reverse_log_transformation(y))\n",
    "\n",
    "    flurry_data = pd.read_csv(\"C:/Users/paul_/OneDrive/Desktop/master-thesis/data/test_data_all_allele.csv\")\n",
    "    flurry_out = rank_model.mhcflurry_test(flurry_data, allele_name)\n",
    "    \n",
    "    return(rank_model.root_mean_squared(mymodel_out, allele_name, \"my\"), rank_model.root_mean_squared(flurry_out, allele_name, \"flurry\"))"
   ]
  },
  {
   "cell_type": "code",
   "execution_count": 27,
   "metadata": {},
   "outputs": [
    {
     "name": "stdout",
     "output_type": "stream",
     "text": [
      "(11, 2, 34, 20)\n",
      "Model parameters: 88640\n",
      "Using CPU\n",
      "Checkpoint found and loaded - Predict values\n",
      "[ Epoch 1 ]\n"
     ]
    },
    {
     "name": "stderr",
     "output_type": "stream",
     "text": [
      "                                                                                                                       \r"
     ]
    },
    {
     "name": "stdout",
     "output_type": "stream",
     "text": [
      "  - (Test) Elapse: 0.006236271063486735 min\n",
      "(63, 2, 34, 20)\n",
      "Model parameters: 88640\n",
      "Using CPU\n",
      "Checkpoint found and loaded - Predict values\n",
      "[ Epoch 1 ]\n"
     ]
    },
    {
     "name": "stderr",
     "output_type": "stream",
     "text": [
      "                                                                                                                       \r"
     ]
    },
    {
     "name": "stdout",
     "output_type": "stream",
     "text": [
      "  - (Test) Elapse: 0.024543023109436034 min\n",
      "(12, 2, 34, 20)\n",
      "Model parameters: 88640\n",
      "Using CPU\n",
      "Checkpoint found and loaded - Predict values\n",
      "[ Epoch 1 ]\n"
     ]
    },
    {
     "name": "stderr",
     "output_type": "stream",
     "text": [
      "                                                                                                                       \r"
     ]
    },
    {
     "name": "stdout",
     "output_type": "stream",
     "text": [
      "  - (Test) Elapse: 0.005466647942860921 min\n"
     ]
    }
   ],
   "source": [
    "mhc_names = [\"HLA-A*01:01\", \"HLA-A*02:01\", \"HLA-B*07:02\"]\n",
    "combined_dict = {}\n",
    "for i in mhc_names:\n",
    "    my, flurry = predict_mhc(i)\n",
    "    combined_dict.update(my)\n",
    "    combined_dict.update(flurry)"
   ]
  },
  {
   "cell_type": "code",
   "execution_count": 28,
   "metadata": {},
   "outputs": [
    {
     "data": {
      "text/plain": [
       "{'HLA-A*01:01my': 9116.350263629933,\n",
       " 'HLA-A*01:01flurry': 10153.670854486432,\n",
       " 'HLA-A*02:01my': 26951.397619389187,\n",
       " 'HLA-A*02:01flurry': 26411.98437729448,\n",
       " 'HLA-B*07:02my': 8443.380269885078,\n",
       " 'HLA-B*07:02flurry': 9349.510131293062}"
      ]
     },
     "execution_count": 28,
     "metadata": {},
     "output_type": "execute_result"
    }
   ],
   "source": [
    "combined_dict"
   ]
  },
  {
   "cell_type": "code",
   "execution_count": 29,
   "metadata": {},
   "outputs": [
    {
     "data": {
      "text/plain": [
       "14837.042717634731"
      ]
     },
     "execution_count": 29,
     "metadata": {},
     "output_type": "execute_result"
    }
   ],
   "source": [
    "a = np.mean([value for key, value in combined_dict.items() if 'my' in key.lower()])\n",
    "a"
   ]
  },
  {
   "cell_type": "code",
   "execution_count": 30,
   "metadata": {},
   "outputs": [
    {
     "data": {
      "text/plain": [
       "15305.055121024658"
      ]
     },
     "execution_count": 30,
     "metadata": {},
     "output_type": "execute_result"
    }
   ],
   "source": [
    "b = np.mean([value for key, value in combined_dict.items() if 'flurry' in key.lower()])\n",
    "b"
   ]
  },
  {
   "cell_type": "code",
   "execution_count": 33,
   "metadata": {},
   "outputs": [
    {
     "data": {
      "text/plain": [
       "-3.05789426884856"
      ]
     },
     "execution_count": 33,
     "metadata": {},
     "output_type": "execute_result"
    }
   ],
   "source": [
    "(a/b - 1) * 100"
   ]
  },
  {
   "cell_type": "code",
   "execution_count": 20,
   "metadata": {},
   "outputs": [
    {
     "data": {
      "text/plain": [
       "-4.276630118220703"
      ]
     },
     "execution_count": 20,
     "metadata": {},
     "output_type": "execute_result"
    }
   ],
   "source": [
    "(a/b - 1) * 100"
   ]
  }
 ],
 "metadata": {
  "kernelspec": {
   "display_name": "Python 3",
   "language": "python",
   "name": "python3"
  },
  "language_info": {
   "codemirror_mode": {
    "name": "ipython",
    "version": 3
   },
   "file_extension": ".py",
   "mimetype": "text/x-python",
   "name": "python",
   "nbconvert_exporter": "python",
   "pygments_lexer": "ipython3",
   "version": "3.7.5"
  }
 },
 "nbformat": 4,
 "nbformat_minor": 4
}
