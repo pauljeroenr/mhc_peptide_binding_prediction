{
 "cells": [
  {
   "cell_type": "code",
   "execution_count": 1,
   "metadata": {},
   "outputs": [],
   "source": [
    "import unittest\n",
    "import pandas as pd\n",
    "import os\n",
    "import numpy as np"
   ]
  },
  {
   "cell_type": "code",
   "execution_count": 2,
   "metadata": {},
   "outputs": [],
   "source": [
    "codes = ['A', 'C', 'D', 'E', 'F', 'G', 'H', 'I', 'K', 'L',\n",
    "         'M', 'N', 'P', 'Q', 'R', 'S', 'T', 'V', 'W', 'Y']"
   ]
  },
  {
   "cell_type": "code",
   "execution_count": 26,
   "metadata": {},
   "outputs": [],
   "source": [
    "class data_transformation():\n",
    "    def __init__(self, path_data, path_mhc, allele_name = None, quant_data = True, encoding = \"one-hot\"):\n",
    "        self.path_data = path_data\n",
    "        self.path_mhc = path_mhc\n",
    "        self.quant_data = quant_data\n",
    "        self.encoding = encoding\n",
    "        self.allele_name = allele_name\n",
    "        \n",
    "    def read_data(self):\n",
    "        '''Reads dataset, mhc sequence data and joins them - returns the data as pandas dataframe'''\n",
    "        cwd = os.getcwd()\n",
    "        os.chdir('..')\n",
    "        os.chdir('..')\n",
    "        os.chdir('..')\n",
    "        current_path = os.getcwd()\n",
    "        data = pd.read_csv(current_path + self.path_data)\n",
    "        mhc_data = pd.read_csv(current_path + self.path_mhc).loc[:, [\"allele\", \"mhc_sequence\"]]\n",
    "        joined_data = pd.merge(data, mhc_data, left_on = \"original_allele\", right_on = \"allele\", how='inner').drop([\"allele_y\", \"original_allele\"], axis = 1)\n",
    "        os.chdir(cwd) \n",
    "        return joined_data\n",
    "    \n",
    "    def filter_data(self):\n",
    "        if not self.allele_name:\n",
    "            data = self.read_data()\n",
    "        else:\n",
    "            data = self.read_data()\n",
    "            data = data[data.allele_x == self.allele_name]\n",
    "        if self.quant_data:\n",
    "            data = data[data.measurement_type == \"quantitative\"].reset_index(drop = True)\n",
    "        else:\n",
    "            data = data.reset_index(drop = True)\n",
    "        data[\"measurement_value\"] = (1 - np.log(data[\"measurement_value\"])) / np.log(50000)\n",
    "        return data\n",
    "    \n",
    "    def encode_sequence(self, data, enc):\n",
    "        # TODO better onehot encoding\n",
    "        if self.encoding == \"one-hot\":\n",
    "            if enc == \"peptide\":\n",
    "                peptide_data = data.loc[:, [\"peptide\"]]\n",
    "                tmp_data = data.append({\"peptide\": ''.join(codes)}, ignore_index = True)\n",
    "                encode_data = tmp_data['peptide'].str.get_dummies(sep='').values[:-1]\n",
    "            elif enc == \"mhc\":\n",
    "                mhc_data = data.loc[:, [\"mhc_sequence\"]]\n",
    "                tmp_data = data.append({\"mhc_sequence\": ''.join(codes)}, ignore_index = True)\n",
    "                encode_data = tmp_data['mhc_sequence'].str.get_dummies(sep='').values[:-1]\n",
    "        else:\n",
    "            raise NotImplementedError\n",
    "        return encode_data        \n",
    "    \n",
    "    def __getitem__(self):\n",
    "        data = self.filter_data()\n",
    "        peptide_seq = self.encode_sequence(data, enc = \"peptide\")\n",
    "        mhc_seq = self.encode_sequence(data, enc = \"mhc\")\n",
    "        target = np.array([data.measurement_value])\n",
    "        return peptide_seq, mhc_seq, target"
   ]
  },
  {
   "cell_type": "code",
   "execution_count": 69,
   "metadata": {},
   "outputs": [
    {
     "name": "stderr",
     "output_type": "stream",
     "text": [
      "test_encode_sequence (__main__.TestNotebook) ... FAIL\n",
      "test_getitem (__main__.TestNotebook) ... FAIL\n",
      "\n",
      "======================================================================\n",
      "FAIL: test_encode_sequence (__main__.TestNotebook)\n",
      "----------------------------------------------------------------------\n",
      "Traceback (most recent call last):\n",
      "  File \"<ipython-input-69-42488f7dea2a>\", line 11, in test_encode_sequence\n",
      "    len(t.filter_data().loc[:0, [\"peptide\"]].peptide[0]))\n",
      "AssertionError: (1, 20) != 9\n",
      "\n",
      "======================================================================\n",
      "FAIL: test_getitem (__main__.TestNotebook)\n",
      "----------------------------------------------------------------------\n",
      "Traceback (most recent call last):\n",
      "  File \"<ipython-input-69-42488f7dea2a>\", line 15, in test_getitem\n",
      "    self.assertEqual(peptide_seq.shape, (31291, 20))\n",
      "AssertionError: Tuples differ: (31290, 20) != (31291, 20)\n",
      "\n",
      "First differing element 0:\n",
      "31290\n",
      "31291\n",
      "\n",
      "- (31290, 20)\n",
      "?      ^\n",
      "\n",
      "+ (31291, 20)\n",
      "?      ^\n",
      "\n",
      "\n",
      "----------------------------------------------------------------------\n",
      "Ran 2 tests in 12.099s\n",
      "\n",
      "FAILED (failures=2)\n"
     ]
    }
   ],
   "source": [
    "class TestNotebook(unittest.TestCase):\n",
    "    def setUp(self):\n",
    "        self.class_data = data_transformation(path_data = \"/data/data_curated_20180219/curated_training_data_no_mass_spec.csv\",\n",
    "                                              path_mhc = \"/data/mhc_sequences_complete.csv\",\n",
    "                                              allele_name = \"HLA-A*02:01\",\n",
    "                                              quant_data = True,\n",
    "                                              encoding = \"one-hot\")\n",
    "    \n",
    "    def test_encode_sequence(self):\n",
    "        self.assertEqual(t.encode_sequence(t.filter_data().loc[:0, :], enc = \"peptide\").shape,\n",
    "                         len(t.filter_data().loc[:0, [\"peptide\"]].peptide[0]))\n",
    "    \n",
    "    def test_getitem(self):\n",
    "        peptide_seq, mhc_seq, target = self.class_data.__getitem__()\n",
    "        self.assertEqual(peptide_seq.shape, (31291, 20))\n",
    "        \n",
    "if __name__ == \"__main__\":\n",
    "    unittest.main(argv=[''], verbosity=2, exit=False)"
   ]
  }
 ],
 "metadata": {
  "kernelspec": {
   "display_name": "Python 3",
   "language": "python",
   "name": "python3"
  },
  "language_info": {
   "codemirror_mode": {
    "name": "ipython",
    "version": 3
   },
   "file_extension": ".py",
   "mimetype": "text/x-python",
   "name": "python",
   "nbconvert_exporter": "python",
   "pygments_lexer": "ipython3",
   "version": "3.7.5"
  }
 },
 "nbformat": 4,
 "nbformat_minor": 4
}
