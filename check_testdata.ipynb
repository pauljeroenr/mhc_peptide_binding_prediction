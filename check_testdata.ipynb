{
 "cells": [
  {
   "cell_type": "code",
   "execution_count": 1,
   "metadata": {},
   "outputs": [
    {
     "name": "stdout",
     "output_type": "stream",
     "text": [
      "importing Jupyter notebook from data_transformation.ipynb\n"
     ]
    }
   ],
   "source": [
    "import math\n",
    "import random\n",
    "import matplotlib.pyplot as plt\n",
    "import numpy as np\n",
    "from tqdm import tqdm as tqdm\n",
    "import pandas as pd\n",
    "import os\n",
    "import time\n",
    "\n",
    "from distance import levenshtein      \n",
    "from sklearn.cluster import dbscan\n",
    "\n",
    "import import_ipynb\n",
    "import data_transformation\n",
    "import unittest\n",
    "from sklearn.model_selection import train_test_split "
   ]
  },
  {
   "cell_type": "code",
   "execution_count": 2,
   "metadata": {},
   "outputs": [
    {
     "name": "stdout",
     "output_type": "stream",
     "text": [
      "(137377, 2, 34, 20)\n"
     ]
    }
   ],
   "source": [
    "data_class = data_transformation.data_transformation(path_data = \"/data/data_curated_20180219/curated_training_data_no_mass_spec.csv\",\n",
    "                                                     path_mhc = \"/data/aligned_mhc_dataset.csv\",\n",
    "                                                     allele_name = None,\n",
    "                                                     quant_data = True,\n",
    "                                                     encoding = \"one-hot\",\n",
    "                                                     dbscan = False)\n",
    "\n",
    "pep, mhc, target = data_class.__getitem__()\n",
    "\n",
    "pep = np.expand_dims(pep, axis=1)\n",
    "mhc = np.expand_dims(mhc, axis=1)\n",
    "inp = np.hstack((pep, mhc))\n",
    "print(inp.shape)\n",
    "\n",
    "X_train, X_test, y_train, y_test = train_test_split(inp, target.T, test_size=0.2, random_state=42)"
   ]
  },
  {
   "cell_type": "markdown",
   "metadata": {},
   "source": [
    "## Train and Test set have same distribution of the target values"
   ]
  },
  {
   "cell_type": "code",
   "execution_count": 3,
   "metadata": {},
   "outputs": [
    {
     "data": {
      "text/plain": [
       "(array([2.2000e+01, 5.6100e+02, 4.8570e+04, 1.9681e+04, 1.7273e+04,\n",
       "        1.3543e+04, 7.4100e+03, 2.5370e+03, 2.9500e+02, 9.0000e+00]),\n",
       " array([-1.43017093, -1.21535945, -1.00054797, -0.7857365 , -0.57092502,\n",
       "        -0.35611354, -0.14130206,  0.07350942,  0.2883209 ,  0.50313238,\n",
       "         0.71794386]),\n",
       " <a list of 10 Patch objects>)"
      ]
     },
     "execution_count": 3,
     "metadata": {},
     "output_type": "execute_result"
    },
    {
     "data": {
      "image/png": "[encoded data removed]",
      "text/plain": [
       "<Figure size 432x288 with 1 Axes>"
      ]
     },
     "metadata": {
      "needs_background": "light"
     },
     "output_type": "display_data"
    }
   ],
   "source": [
    "plt.hist(y_train.flatten())"
   ]
  },
  {
   "cell_type": "code",
   "execution_count": 4,
   "metadata": {},
   "outputs": [
    {
     "data": {
      "text/plain": [
       "(array([2.1000e+01, 1.5730e+03, 1.2146e+04, 4.8900e+03, 3.8830e+03,\n",
       "        2.9350e+03, 1.6540e+03, 3.5800e+02, 1.3000e+01, 3.0000e+00]),\n",
       " array([-1.34103584, -1.13275871, -0.92448158, -0.71620445, -0.50792732,\n",
       "        -0.29965019, -0.09137306,  0.11690408,  0.32518121,  0.53345834,\n",
       "         0.74173547]),\n",
       " <a list of 10 Patch objects>)"
      ]
     },
     "execution_count": 4,
     "metadata": {},
     "output_type": "execute_result"
    },
    {
     "data": {
      "image/png": "[encoded data removed]",
      "text/plain": [
       "<Figure size 432x288 with 1 Axes>"
      ]
     },
     "metadata": {
      "needs_background": "light"
     },
     "output_type": "display_data"
    }
   ],
   "source": [
    "plt.hist(y_test.flatten())"
   ]
  },
  {
   "cell_type": "code",
   "execution_count": 41,
   "metadata": {},
   "outputs": [
    {
     "data": {
      "text/plain": [
       "(109901, 1)"
      ]
     },
     "execution_count": 41,
     "metadata": {},
     "output_type": "execute_result"
    }
   ],
   "source": [
    "y_train.shape"
   ]
  },
  {
   "cell_type": "code",
   "execution_count": 28,
   "metadata": {},
   "outputs": [
    {
     "data": {
      "text/plain": [
       "(array([3.6000e+01, 3.4400e+03, 1.1075e+04, 1.6142e+04, 1.7125e+04,\n",
       "        4.8132e+04, 1.3387e+04, 5.1300e+02, 4.3000e+01, 8.0000e+00]),\n",
       " array([-5.74179391, -2.60975186,  0.5222902 ,  3.65433226,  6.78637432,\n",
       "         9.91841638, 13.05045843, 16.18250049, 19.31454255, 22.44658461,\n",
       "        25.57862666]),\n",
       " <a list of 10 Patch objects>)"
      ]
     },
     "execution_count": 28,
     "metadata": {},
     "output_type": "execute_result"
    },
    {
     "data": {
      "image/png": "[encoded data removed]",
      "text/plain": [
       "<Figure size 432x288 with 1 Axes>"
      ]
     },
     "metadata": {
      "needs_background": "light"
     },
     "output_type": "display_data"
    }
   ],
   "source": [
    "import import_ipynb\n",
    "import rank_model\n",
    "from scipy.stats import boxcox\n",
    "\n",
    "plt.hist(boxcox(rank_model.reverse_log_transformation(y_train).flatten(), 0.05))"
   ]
  },
  {
   "cell_type": "code",
   "execution_count": 38,
   "metadata": {},
   "outputs": [
    {
     "data": {
      "text/plain": [
       "(array([5.3000e+01, 4.2350e+03, 1.1962e+04, 1.6714e+04, 1.6842e+04,\n",
       "        4.7856e+04, 1.1780e+04, 4.1900e+02, 3.4000e+01, 6.0000e+00]),\n",
       " array([-3.45442436, -2.72698481, -1.99954526, -1.27210571, -0.54466616,\n",
       "         0.18277338,  0.91021293,  1.63765248,  2.36509203,  3.09253157,\n",
       "         3.81997112]),\n",
       " <a list of 10 Patch objects>)"
      ]
     },
     "execution_count": 38,
     "metadata": {},
     "output_type": "execute_result"
    },
    {
     "data": {
      "image/png": "[encoded data removed]",
      "text/plain": [
       "<Figure size 432x288 with 1 Axes>"
      ]
     },
     "metadata": {
      "needs_background": "light"
     },
     "output_type": "display_data"
    }
   ],
   "source": [
    "from sklearn.preprocessing import StandardScaler\n",
    "data = boxcox(rank_model.reverse_log_transformation(y_train).flatten(), 0.055).reshape(-1, 1)#(y_train)\n",
    "scaler = StandardScaler()\n",
    "scaler.fit(data)\n",
    "scaled = scaler.transform(data)\n",
    "plt.hist(scaled)"
   ]
  },
  {
   "cell_type": "code",
   "execution_count": 40,
   "metadata": {},
   "outputs": [
    {
     "data": {
      "text/plain": [
       "(array([1.09882e+05, 9.00000e+00, 5.00000e+00, 2.00000e+00, 2.00000e+00,\n",
       "        0.00000e+00, 0.00000e+00, 0.00000e+00, 0.00000e+00, 1.00000e+00]),\n",
       " array([1.150000e-03, 1.427660e+06, 2.855320e+06, 4.282980e+06,\n",
       "        5.710640e+06, 7.138300e+06, 8.565960e+06, 9.993620e+06,\n",
       "        1.142128e+07, 1.284894e+07, 1.427660e+07]),\n",
       " <a list of 10 Patch objects>)"
      ]
     },
     "execution_count": 40,
     "metadata": {},
     "output_type": "execute_result"
    },
    {
     "data": {
      "image/png": "[encoded data removed]",
      "text/plain": [
       "<Figure size 432x288 with 1 Axes>"
      ]
     },
     "metadata": {
      "needs_background": "light"
     },
     "output_type": "display_data"
    }
   ],
   "source": [
    "# for inverse transformation\n",
    "from scipy.special import inv_boxcox\n",
    "inversed = scaler.inverse_transform(scaled)\n",
    "plt.hist(inv_boxcox(inversed, 0.055))"
   ]
  },
  {
   "cell_type": "code",
   "execution_count": 41,
   "metadata": {},
   "outputs": [
    {
     "data": {
      "text/plain": [
       "(array([1.09882e+05, 9.00000e+00, 5.00000e+00, 2.00000e+00, 2.00000e+00,\n",
       "        0.00000e+00, 0.00000e+00, 0.00000e+00, 0.00000e+00, 1.00000e+00]),\n",
       " array([1.150000e-03, 1.427660e+06, 2.855320e+06, 4.282980e+06,\n",
       "        5.710640e+06, 7.138300e+06, 8.565960e+06, 9.993620e+06,\n",
       "        1.142128e+07, 1.284894e+07, 1.427660e+07]),\n",
       " <a list of 10 Patch objects>)"
      ]
     },
     "execution_count": 41,
     "metadata": {},
     "output_type": "execute_result"
    },
    {
     "data": {
      "image/png": "[encoded data removed]",
      "text/plain": [
       "<Figure size 432x288 with 1 Axes>"
      ]
     },
     "metadata": {
      "needs_background": "light"
     },
     "output_type": "display_data"
    }
   ],
   "source": [
    "plt.hist(rank_model.reverse_log_transformation(y_train).flatten())"
   ]
  },
  {
   "cell_type": "markdown",
   "metadata": {},
   "source": [
    "## Naive Model taking only the mean value lead to RMSE of 0.3"
   ]
  },
  {
   "cell_type": "code",
   "execution_count": 18,
   "metadata": {},
   "outputs": [],
   "source": [
    "pred = np.full(len(y_test.flatten()), np.mean(y_test.flatten()))"
   ]
  },
  {
   "cell_type": "code",
   "execution_count": 19,
   "metadata": {},
   "outputs": [
    {
     "data": {
      "text/plain": [
       "0.2928557865457815"
      ]
     },
     "execution_count": 19,
     "metadata": {},
     "output_type": "execute_result"
    }
   ],
   "source": [
    "error = pred - y_test.flatten()\n",
    "error2 = np.square(error)\n",
    "rmse = np.sqrt(np.mean(error2))\n",
    "rmse"
   ]
  },
  {
   "cell_type": "markdown",
   "metadata": {},
   "source": [
    "## Comparision of input values of test and train set"
   ]
  },
  {
   "cell_type": "code",
   "execution_count": 21,
   "metadata": {},
   "outputs": [
    {
     "name": "stderr",
     "output_type": "stream",
     "text": [
      "100%|████████████████████████████████████████████████████████████████████████████████| 500/500 [18:31<00:00,  2.22s/it]\n"
     ]
    }
   ],
   "source": [
    "results_max = []\n",
    "for j in tqdm(range(500)):#len(X_train))):\n",
    "    a = X_train[j, 0][~np.all(X_train[j, 0] == 0, axis=1)]\n",
    "    mhc_a = X_train[j, 1][~np.all(X_train[j, 1] == 0, axis=1)]\n",
    "    results = []\n",
    "    for i in range(len(X_test)):\n",
    "        b = X_test[i, 0][~np.all(X_test[i, 0] == 0, axis=1)]\n",
    "        mhc_b = X_test[i, 1][~np.all(X_test[i, 1] == 0, axis=1)]\n",
    "        #print(b.size)\n",
    "        if mhc_a.size == mhc_b.size: #here for now easier looping\n",
    "            if a.size > b.size:\n",
    "                temp_b = np.zeros(a.shape)\n",
    "                temp_b[:b.shape[0],:b.shape[1]] = b\n",
    "                temp = np.sum(np.all(a == temp_b, axis=1))\n",
    "            elif a.size < b.size:\n",
    "                temp_a = np.zeros(b.shape)\n",
    "                temp_a[:a.shape[0],:a.shape[1]] = a\n",
    "                temp = np.sum(np.all(temp_a == b, axis=1))\n",
    "            else:\n",
    "                temp = np.sum(np.all(a == b, axis=1))\n",
    "            temp_mhc = np.sum(np.all(mhc_a == mhc_b, axis=1))\n",
    "            if a.shape[1] >= b.shape[1]:\n",
    "                results.append([temp / a.shape[0], temp_mhc / mhc_a.shape[0]])\n",
    "            else:\n",
    "                results.append([temp / b.shape[0], temp_mhc / mhc_a.shape[0]])\n",
    "    #print(results)\n",
    "    results_max.append(max(np.mean(results, axis = 1)))"
   ]
  },
  {
   "cell_type": "code",
   "execution_count": 22,
   "metadata": {},
   "outputs": [
    {
     "data": {
      "text/plain": [
       "(array([ 2.,  0., 14.,  9., 21., 35.,  9., 30., 31., 29., 44., 26., 23.,\n",
       "        56., 30., 29., 23., 54., 17., 18.]),\n",
       " array([0.61111111, 0.63055556, 0.65      , 0.66944444, 0.68888889,\n",
       "        0.70833333, 0.72777778, 0.74722222, 0.76666667, 0.78611111,\n",
       "        0.80555556, 0.825     , 0.84444444, 0.86388889, 0.88333333,\n",
       "        0.90277778, 0.92222222, 0.94166667, 0.96111111, 0.98055556,\n",
       "        1.        ]),\n",
       " <a list of 20 Patch objects>)"
      ]
     },
     "execution_count": 22,
     "metadata": {},
     "output_type": "execute_result"
    },
    {
     "data": {
      "image/png": "[encoded data removed]",
      "text/plain": [
       "<Figure size 432x288 with 1 Axes>"
      ]
     },
     "metadata": {
      "needs_background": "light"
     },
     "output_type": "display_data"
    }
   ],
   "source": [
    "plt.hist(results_max, bins = 20)"
   ]
  },
  {
   "cell_type": "code",
   "execution_count": 23,
   "metadata": {},
   "outputs": [
    {
     "data": {
      "text/plain": [
       "0.8403069815805109"
      ]
     },
     "execution_count": 23,
     "metadata": {},
     "output_type": "execute_result"
    }
   ],
   "source": [
    "np.mean(results_max)"
   ]
  },
  {
   "cell_type": "markdown",
   "metadata": {},
   "source": [
    "## Order Pandas by levensthein distance"
   ]
  },
  {
   "cell_type": "code",
   "execution_count": 12,
   "metadata": {},
   "outputs": [],
   "source": [
    "cwd = os.getcwd()\n",
    "os.chdir('..')\n",
    "os.chdir('..')\n",
    "os.chdir('..')\n",
    "current_path = os.getcwd()\n",
    "dfcl = pd.read_csv(current_path + \"/data/data_curated_20180219/curated_training_data_no_mass_spec.csv\")\n",
    "os.chdir(cwd) \n",
    "df = dfcl[dfcl.measurement_type == \"quantitative\"].loc[:, ['peptide', 'allele']].drop_duplicates().reset_index(drop = True)"
   ]
  },
  {
   "cell_type": "code",
   "execution_count": 3,
   "metadata": {},
   "outputs": [
    {
     "data": {
      "text/html": [
       "<div>\n",
       "<style scoped>\n",
       "    .dataframe tbody tr th:only-of-type {\n",
       "        vertical-align: middle;\n",
       "    }\n",
       "\n",
       "    .dataframe tbody tr th {\n",
       "        vertical-align: top;\n",
       "    }\n",
       "\n",
       "    .dataframe thead th {\n",
       "        text-align: right;\n",
       "    }\n",
       "</style>\n",
       "<table border=\"1\" class=\"dataframe\">\n",
       "  <thead>\n",
       "    <tr style=\"text-align: right;\">\n",
       "      <th></th>\n",
       "      <th>peptide</th>\n",
       "      <th>allele</th>\n",
       "    </tr>\n",
       "  </thead>\n",
       "  <tbody>\n",
       "    <tr>\n",
       "      <th>0</th>\n",
       "      <td>AENDTLVVSV</td>\n",
       "      <td>BoLA-1*21:01</td>\n",
       "    </tr>\n",
       "    <tr>\n",
       "      <th>1</th>\n",
       "      <td>NQFNGGCLLV</td>\n",
       "      <td>BoLA-1*21:01</td>\n",
       "    </tr>\n",
       "    <tr>\n",
       "      <th>2</th>\n",
       "      <td>AAHCIHAEW</td>\n",
       "      <td>BoLA-2*08:01</td>\n",
       "    </tr>\n",
       "    <tr>\n",
       "      <th>3</th>\n",
       "      <td>AAKHMSNTY</td>\n",
       "      <td>BoLA-2*08:01</td>\n",
       "    </tr>\n",
       "    <tr>\n",
       "      <th>4</th>\n",
       "      <td>DSYAYMRNGW</td>\n",
       "      <td>BoLA-2*08:01</td>\n",
       "    </tr>\n",
       "  </tbody>\n",
       "</table>\n",
       "</div>"
      ],
      "text/plain": [
       "      peptide        allele\n",
       "0  AENDTLVVSV  BoLA-1*21:01\n",
       "1  NQFNGGCLLV  BoLA-1*21:01\n",
       "2   AAHCIHAEW  BoLA-2*08:01\n",
       "3   AAKHMSNTY  BoLA-2*08:01\n",
       "4  DSYAYMRNGW  BoLA-2*08:01"
      ]
     },
     "execution_count": 3,
     "metadata": {},
     "output_type": "execute_result"
    }
   ],
   "source": [
    "df.head()"
   ]
  },
  {
   "cell_type": "code",
   "execution_count": null,
   "metadata": {},
   "outputs": [],
   "source": [
    "def lev_metric(x, y):\n",
    "    i, j = int(x[0]), int(y[0])     # extract indices\n",
    "    return levenshtein(t[i], t[j])\n",
    "\n",
    "grouping = df.groupby('allele')\n",
    "list_values = []\n",
    "\n",
    "for name, group in tqdm(grouping):\n",
    "    df_test = df[df.allele == name].reset_index(drop = True)\n",
    "    t = df_test.peptide.values\n",
    "    X = np.arange(len(t)).reshape(-1, 1)\n",
    "    #start = time.time()\n",
    "    te = dbscan(X, metric=lev_metric, eps=4, min_samples=2, algorithm='brute')\n",
    "    #end = time.time()\n",
    "    #print(end - start)\n",
    "\n",
    "    d = {'name_allele': np.repeat(name,te[1].shape[0]), 'name_peptide': t, 'dbscan_cluster': te[1]}\n",
    "    list_values.append(d)\n",
    "    \n",
    "df_cluster = pd.concat([pd.DataFrame(l) for l in list_values],axis=0)"
   ]
  },
  {
   "cell_type": "code",
   "execution_count": 10,
   "metadata": {},
   "outputs": [
    {
     "data": {
      "text/plain": [
       "(158963, 3)"
      ]
     },
     "execution_count": 10,
     "metadata": {},
     "output_type": "execute_result"
    }
   ],
   "source": [
    "df_cluster.shape"
   ]
  },
  {
   "cell_type": "code",
   "execution_count": 8,
   "metadata": {},
   "outputs": [
    {
     "data": {
      "text/plain": [
       "(58543, 3)"
      ]
     },
     "execution_count": 8,
     "metadata": {},
     "output_type": "execute_result"
    }
   ],
   "source": [
    "df_cluster[df_cluster.dbscan_cluster == -1].shape"
   ]
  },
  {
   "cell_type": "code",
   "execution_count": 18,
   "metadata": {},
   "outputs": [],
   "source": [
    "merge_df = pd.merge(dfcl, df_cluster, left_on = [\"allele\", \"peptide\"], right_on = [\"name_allele\", 'name_peptide'], how='left').drop(['name_peptide', 'name_allele'], axis = 1)"
   ]
  },
  {
   "cell_type": "code",
   "execution_count": 19,
   "metadata": {},
   "outputs": [],
   "source": [
    "merge_df.to_csv(\"C:/Users/paul_/OneDrive/Desktop/master-thesis/data/data_curated_20180219/curated_training_data_no_mass_spec_dbscan.csv\")"
   ]
  },
  {
   "cell_type": "markdown",
   "metadata": {},
   "source": [
    "## Test DBSCAN split"
   ]
  },
  {
   "cell_type": "code",
   "execution_count": 2,
   "metadata": {},
   "outputs": [
    {
     "name": "stdout",
     "output_type": "stream",
     "text": [
      "(137377, 2, 34, 20)\n"
     ]
    }
   ],
   "source": [
    "data_class = data_transformation.data_transformation(path_data = \"/data/data_curated_20180219/curated_training_data_no_mass_spec_dbscan.csv\",\n",
    "                                                     path_mhc = \"/data/aligned_mhc_dataset.csv\",\n",
    "                                                     allele_name = None,\n",
    "                                                     quant_data = True,\n",
    "                                                     encoding = \"one-hot\")\n",
    "\n",
    "pep, mhc, target, dbscan = data_class.__getitem__()\n",
    "\n",
    "pep = np.expand_dims(pep, axis=1)\n",
    "mhc = np.expand_dims(mhc, axis=1)\n",
    "inp = np.hstack((pep, mhc))\n",
    "print(inp.shape)\n",
    "\n",
    "np.random.seed(17) \n",
    "test_index = np.random.choice(np.where(dbscan.T == -1)[0],\n",
    "                              size = int(np.round(dbscan.T.shape[0] * 0.2)),\n",
    "                              replace = False)\n",
    "\n",
    "X_train = inp[~np.isin(np.arange(len(inp)), test_index)]\n",
    "X_test = inp[np.isin(np.arange(len(inp)), test_index)]\n",
    "y_train = target.T[~np.isin(np.arange(len(target.T)), test_index)]\n",
    "y_test = target.T[np.isin(np.arange(len(target.T)), test_index)]"
   ]
  },
  {
   "cell_type": "code",
   "execution_count": 3,
   "metadata": {},
   "outputs": [
    {
     "data": {
      "text/plain": [
       "(109902, 2, 34, 20)"
      ]
     },
     "execution_count": 3,
     "metadata": {},
     "output_type": "execute_result"
    }
   ],
   "source": [
    "X_train.shape"
   ]
  },
  {
   "cell_type": "code",
   "execution_count": 4,
   "metadata": {},
   "outputs": [
    {
     "data": {
      "text/plain": [
       "(27475, 2, 34, 20)"
      ]
     },
     "execution_count": 4,
     "metadata": {},
     "output_type": "execute_result"
    }
   ],
   "source": [
    "X_test.shape"
   ]
  },
  {
   "cell_type": "code",
   "execution_count": 5,
   "metadata": {},
   "outputs": [
    {
     "data": {
      "text/plain": [
       "(109902, 1)"
      ]
     },
     "execution_count": 5,
     "metadata": {},
     "output_type": "execute_result"
    }
   ],
   "source": [
    "y_train.shape"
   ]
  },
  {
   "cell_type": "code",
   "execution_count": 6,
   "metadata": {},
   "outputs": [
    {
     "data": {
      "text/plain": [
       "(27475, 1)"
      ]
     },
     "execution_count": 6,
     "metadata": {},
     "output_type": "execute_result"
    }
   ],
   "source": [
    "y_test.shape"
   ]
  },
  {
   "cell_type": "code",
   "execution_count": 7,
   "metadata": {},
   "outputs": [
    {
     "data": {
      "text/plain": [
       "(-1.5, 0.75)"
      ]
     },
     "execution_count": 7,
     "metadata": {},
     "output_type": "execute_result"
    },
    {
     "data": {
      "image/png": "[encoded data removed]",
      "text/plain": [
       "<Figure size 432x288 with 1 Axes>"
      ]
     },
     "metadata": {
      "needs_background": "light"
     },
     "output_type": "display_data"
    }
   ],
   "source": [
    "plt.hist(y_train.flatten())\n",
    "plt.xlim(-1.5, 0.75)"
   ]
  },
  {
   "cell_type": "code",
   "execution_count": 8,
   "metadata": {},
   "outputs": [
    {
     "data": {
      "text/plain": [
       "(-1.5, 0.75)"
      ]
     },
     "execution_count": 8,
     "metadata": {},
     "output_type": "execute_result"
    },
    {
     "data": {
      "image/png": "[encoded data removed]",
      "text/plain": [
       "<Figure size 432x288 with 1 Axes>"
      ]
     },
     "metadata": {
      "needs_background": "light"
     },
     "output_type": "display_data"
    }
   ],
   "source": [
    "plt.hist(y_test.flatten())\n",
    "plt.xlim(-1.5, 0.75)"
   ]
  },
  {
   "cell_type": "code",
   "execution_count": 9,
   "metadata": {},
   "outputs": [
    {
     "name": "stderr",
     "output_type": "stream",
     "text": [
      "100%|██████████████████████████████████████████████████████████████████████████████| 1000/1000 [33:47<00:00,  2.03s/it]\n"
     ]
    }
   ],
   "source": [
    "results_max = []\n",
    "for j in tqdm(range(500)):#len(X_train))):\n",
    "    a = X_train[j, 0][~np.all(X_train[j, 0] == 0, axis=1)]\n",
    "    mhc_a = X_train[j, 1][~np.all(X_train[j, 1] == 0, axis=1)]\n",
    "    results = []\n",
    "    for i in range(len(X_test)):\n",
    "        b = X_test[i, 0][~np.all(X_test[i, 0] == 0, axis=1)]\n",
    "        mhc_b = X_test[i, 1][~np.all(X_test[i, 1] == 0, axis=1)]\n",
    "        #print(b.size)\n",
    "        if mhc_a.size == mhc_b.size: #here for now easier looping\n",
    "            if a.size > b.size:\n",
    "                temp_b = np.zeros(a.shape)\n",
    "                temp_b[:b.shape[0],:b.shape[1]] = b\n",
    "                temp = np.sum(np.all(a == temp_b, axis=1))\n",
    "            elif a.size < b.size:\n",
    "                temp_a = np.zeros(b.shape)\n",
    "                temp_a[:a.shape[0],:a.shape[1]] = a\n",
    "                temp = np.sum(np.all(temp_a == b, axis=1))\n",
    "            else:\n",
    "                temp = np.sum(np.all(a == b, axis=1))\n",
    "            temp_mhc = np.sum(np.all(mhc_a == mhc_b, axis=1))\n",
    "            if a.shape[1] >= b.shape[1]:\n",
    "                results.append([temp / a.shape[0], temp_mhc / mhc_a.shape[0]])\n",
    "            else:\n",
    "                results.append([temp / b.shape[0], temp_mhc / mhc_a.shape[0]])\n",
    "    #print(results)\n",
    "    results_max.append(max(np.mean(results, axis = 1)))"
   ]
  },
  {
   "cell_type": "code",
   "execution_count": 10,
   "metadata": {},
   "outputs": [
    {
     "data": {
      "text/plain": [
       "(array([  1.,   7.,  13., 142.,   7.,  52., 396., 113.,  51., 162.,   2.,\n",
       "         16.,   2.,   4.,  29.,   2.,   0.,   0.,   0.,   1.]),\n",
       " array([0.56985294, 0.58547794, 0.60110294, 0.61672794, 0.63235294,\n",
       "        0.64797794, 0.66360294, 0.67922794, 0.69485294, 0.71047794,\n",
       "        0.72610294, 0.74172794, 0.75735294, 0.77297794, 0.78860294,\n",
       "        0.80422794, 0.81985294, 0.83547794, 0.85110294, 0.86672794,\n",
       "        0.88235294]),\n",
       " <a list of 20 Patch objects>)"
      ]
     },
     "execution_count": 10,
     "metadata": {},
     "output_type": "execute_result"
    },
    {
     "data": {
      "image/png": "[encoded data removed]",
      "text/plain": [
       "<Figure size 432x288 with 1 Axes>"
      ]
     },
     "metadata": {
      "needs_background": "light"
     },
     "output_type": "display_data"
    }
   ],
   "source": [
    "plt.hist(results_max, bins = 20)"
   ]
  },
  {
   "cell_type": "code",
   "execution_count": 13,
   "metadata": {},
   "outputs": [
    {
     "data": {
      "text/plain": [
       "0.6779327943298531"
      ]
     },
     "execution_count": 13,
     "metadata": {},
     "output_type": "execute_result"
    }
   ],
   "source": [
    "np.mean(results_max)"
   ]
  }
 ],
 "metadata": {
  "kernelspec": {
   "display_name": "Python 3",
   "language": "python",
   "name": "python3"
  },
  "language_info": {
   "codemirror_mode": {
    "name": "ipython",
    "version": 3
   },
   "file_extension": ".py",
   "mimetype": "text/x-python",
   "name": "python",
   "nbconvert_exporter": "python",
   "pygments_lexer": "ipython3",
   "version": "3.7.5"
  }
 },
 "nbformat": 4,
 "nbformat_minor": 4
}
