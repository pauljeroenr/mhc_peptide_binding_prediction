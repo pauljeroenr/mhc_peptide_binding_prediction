{
 "cells": [
  {
   "cell_type": "code",
   "execution_count": 1,
   "metadata": {},
   "outputs": [
    {
     "name": "stdout",
     "output_type": "stream",
     "text": [
      "importing Jupyter notebook from data_transformation.ipynb\n"
     ]
    }
   ],
   "source": [
    "import math\n",
    "import random\n",
    "import matplotlib.pyplot as plt\n",
    "import numpy as np\n",
    "from tqdm import tqdm as tqdm\n",
    "import pandas as pd\n",
    "import os\n",
    "\n",
    "import import_ipynb\n",
    "import data_transformation\n",
    "import unittest\n",
    "from sklearn.model_selection import train_test_split "
   ]
  },
  {
   "cell_type": "code",
   "execution_count": 2,
   "metadata": {},
   "outputs": [
    {
     "name": "stdout",
     "output_type": "stream",
     "text": [
      "(137377, 2, 34, 20)\n"
     ]
    }
   ],
   "source": [
    "data_class = data_transformation.data_transformation(path_data = \"/data/data_curated_20180219/curated_training_data_no_mass_spec.csv\",\n",
    "                                                     path_mhc = \"/data/aligned_mhc_dataset.csv\",\n",
    "                                                     allele_name = None,\n",
    "                                                     quant_data = True,\n",
    "                                                     encoding = \"one-hot\")\n",
    "\n",
    "pep, mhc, target = data_class.__getitem__()\n",
    "\n",
    "pep = np.expand_dims(pep, axis=1)\n",
    "mhc = np.expand_dims(mhc, axis=1)\n",
    "inp = np.hstack((pep, mhc))\n",
    "print(inp.shape)\n",
    "\n",
    "X_train, X_test, y_train, y_test = train_test_split(inp, target.T, test_size=0.2, random_state=42)"
   ]
  },
  {
   "cell_type": "markdown",
   "metadata": {},
   "source": [
    "## Train and Test set have same distribution of the target values"
   ]
  },
  {
   "cell_type": "code",
   "execution_count": 3,
   "metadata": {},
   "outputs": [
    {
     "data": {
      "text/plain": [
       "(array([2.2000e+01, 5.6100e+02, 4.8570e+04, 1.9681e+04, 1.7273e+04,\n",
       "        1.3543e+04, 7.4100e+03, 2.5370e+03, 2.9500e+02, 9.0000e+00]),\n",
       " array([-1.43017093, -1.21535945, -1.00054797, -0.7857365 , -0.57092502,\n",
       "        -0.35611354, -0.14130206,  0.07350942,  0.2883209 ,  0.50313238,\n",
       "         0.71794386]),\n",
       " <a list of 10 Patch objects>)"
      ]
     },
     "execution_count": 3,
     "metadata": {},
     "output_type": "execute_result"
    },
    {
     "data": {
      "image/png": "[encoded data removed]",
      "text/plain": [
       "<Figure size 432x288 with 1 Axes>"
      ]
     },
     "metadata": {
      "needs_background": "light"
     },
     "output_type": "display_data"
    }
   ],
   "source": [
    "plt.hist(y_train.flatten())"
   ]
  },
  {
   "cell_type": "code",
   "execution_count": 4,
   "metadata": {},
   "outputs": [
    {
     "data": {
      "text/plain": [
       "(array([2.1000e+01, 1.5730e+03, 1.2146e+04, 4.8900e+03, 3.8830e+03,\n",
       "        2.9350e+03, 1.6540e+03, 3.5800e+02, 1.3000e+01, 3.0000e+00]),\n",
       " array([-1.34103584, -1.13275871, -0.92448158, -0.71620445, -0.50792732,\n",
       "        -0.29965019, -0.09137306,  0.11690408,  0.32518121,  0.53345834,\n",
       "         0.74173547]),\n",
       " <a list of 10 Patch objects>)"
      ]
     },
     "execution_count": 4,
     "metadata": {},
     "output_type": "execute_result"
    },
    {
     "data": {
      "image/png": "[encoded data removed]",
      "text/plain": [
       "<Figure size 432x288 with 1 Axes>"
      ]
     },
     "metadata": {
      "needs_background": "light"
     },
     "output_type": "display_data"
    }
   ],
   "source": [
    "plt.hist(y_test.flatten())"
   ]
  },
  {
   "cell_type": "markdown",
   "metadata": {},
   "source": [
    "## Naive Model taking only the mean value lead to RMSE of 0.3"
   ]
  },
  {
   "cell_type": "code",
   "execution_count": 5,
   "metadata": {},
   "outputs": [],
   "source": [
    "pred = np.full(len(y_test.flatten()), np.mean(y_test.flatten()))"
   ]
  },
  {
   "cell_type": "code",
   "execution_count": 6,
   "metadata": {},
   "outputs": [
    {
     "data": {
      "text/plain": [
       "0.2928557865457815"
      ]
     },
     "execution_count": 6,
     "metadata": {},
     "output_type": "execute_result"
    }
   ],
   "source": [
    "error = pred - y_test.flatten()\n",
    "error2 = np.square(error)\n",
    "rmse = np.sqrt(np.mean(error2))\n",
    "rmse"
   ]
  },
  {
   "cell_type": "markdown",
   "metadata": {},
   "source": [
    "## Comparision of input values of test and train set"
   ]
  },
  {
   "cell_type": "code",
   "execution_count": 7,
   "metadata": {},
   "outputs": [
    {
     "name": "stderr",
     "output_type": "stream",
     "text": [
      "100%|████████████████████████████████████████████████████████████████████████████████| 100/100 [02:29<00:00,  1.50s/it]\n"
     ]
    }
   ],
   "source": [
    "results_max = []\n",
    "for j in tqdm(range(100)):#len(X_train))):\n",
    "    a = X_train[j, 0][~np.all(X_train[j, 0] == 0, axis=1)]\n",
    "    mhc_a = X_train[j, 1][~np.all(X_train[j, 1] == 0, axis=1)]\n",
    "    results = []\n",
    "    for i in range(len(X_test)):\n",
    "        b = X_test[i, 0][~np.all(X_test[i, 0] == 0, axis=1)]\n",
    "        mhc_b = X_test[i, 1][~np.all(X_test[i, 1] == 0, axis=1)]\n",
    "        #print(b.size)\n",
    "        if mhc_a.size == mhc_b.size: #here for now easier looping\n",
    "            if a.size > b.size:\n",
    "                temp_b = np.zeros(a.shape)\n",
    "                temp_b[:b.shape[0],:b.shape[1]] = b\n",
    "                temp = np.sum(np.all(a == temp_b, axis=1))\n",
    "            elif a.size < b.size:\n",
    "                temp_a = np.zeros(b.shape)\n",
    "                temp_a[:a.shape[0],:a.shape[1]] = a\n",
    "                temp = np.sum(np.all(temp_a == b, axis=1))\n",
    "            else:\n",
    "                temp = np.sum(np.all(a == b, axis=1))\n",
    "            temp_mhc = np.sum(np.all(mhc_a == mhc_b, axis=1))\n",
    "            if a.shape[1] >= b.shape[1]:\n",
    "                results.append([temp / a.shape[0], temp_mhc / mhc_a.shape[0]])\n",
    "            else:\n",
    "                results.append([temp / b.shape[0], temp_mhc / mhc_a.shape[0]])\n",
    "    #print(results)\n",
    "    results_max.append(max(np.mean(results, axis = 1)))"
   ]
  },
  {
   "cell_type": "code",
   "execution_count": 8,
   "metadata": {},
   "outputs": [
    {
     "data": {
      "text/plain": [
       "(array([ 3.,  0.,  3.,  0., 10.,  5.,  3., 10.,  6.,  9.,  7.,  4.,  6.,\n",
       "         4.,  8.,  1.,  2., 12.,  3.,  4.]),\n",
       " array([0.65  , 0.6675, 0.685 , 0.7025, 0.72  , 0.7375, 0.755 , 0.7725,\n",
       "        0.79  , 0.8075, 0.825 , 0.8425, 0.86  , 0.8775, 0.895 , 0.9125,\n",
       "        0.93  , 0.9475, 0.965 , 0.9825, 1.    ]),\n",
       " <a list of 20 Patch objects>)"
      ]
     },
     "execution_count": 8,
     "metadata": {},
     "output_type": "execute_result"
    },
    {
     "data": {
      "image/png": "[encoded data removed]",
      "text/plain": [
       "<Figure size 432x288 with 1 Axes>"
      ]
     },
     "metadata": {
      "needs_background": "light"
     },
     "output_type": "display_data"
    }
   ],
   "source": [
    "plt.hist(results_max, bins = 20)"
   ]
  },
  {
   "cell_type": "code",
   "execution_count": 9,
   "metadata": {},
   "outputs": [
    {
     "data": {
      "text/plain": [
       "(array([ 3.,  0.,  3.,  0., 10.,  5.,  3., 10.,  6.,  9.,  7.,  4.,  6.,\n",
       "         4.,  8.,  1.,  2., 12.,  3.,  4.]),\n",
       " array([0.65  , 0.6675, 0.685 , 0.7025, 0.72  , 0.7375, 0.755 , 0.7725,\n",
       "        0.79  , 0.8075, 0.825 , 0.8425, 0.86  , 0.8775, 0.895 , 0.9125,\n",
       "        0.93  , 0.9475, 0.965 , 0.9825, 1.    ]),\n",
       " <a list of 20 Patch objects>)"
      ]
     },
     "execution_count": 9,
     "metadata": {},
     "output_type": "execute_result"
    },
    {
     "data": {
      "image/png": "[encoded data removed]",
      "text/plain": [
       "<Figure size 432x288 with 1 Axes>"
      ]
     },
     "metadata": {
      "needs_background": "light"
     },
     "output_type": "display_data"
    }
   ],
   "source": [
    "plt.hist(results_max, bins = 20)"
   ]
  },
  {
   "cell_type": "markdown",
   "metadata": {},
   "source": [
    "## Order Pandas by levensthein distance"
   ]
  },
  {
   "cell_type": "code",
   "execution_count": 10,
   "metadata": {},
   "outputs": [],
   "source": [
    "cwd = os.getcwd()\n",
    "os.chdir('..')\n",
    "os.chdir('..')\n",
    "os.chdir('..')\n",
    "current_path = os.getcwd()\n",
    "df = pd.read_csv(current_path + \"/data/data_curated_20180219/curated_training_data_no_mass_spec.csv\")\n",
    "os.chdir(cwd) \n",
    "df = df[df.measurement_type == \"quantitative\"].loc[:, ['peptide', 'allele']].drop_duplicates().reset_index(drop = True)"
   ]
  },
  {
   "cell_type": "code",
   "execution_count": 11,
   "metadata": {},
   "outputs": [
    {
     "data": {
      "text/html": [
       "<div>\n",
       "<style scoped>\n",
       "    .dataframe tbody tr th:only-of-type {\n",
       "        vertical-align: middle;\n",
       "    }\n",
       "\n",
       "    .dataframe tbody tr th {\n",
       "        vertical-align: top;\n",
       "    }\n",
       "\n",
       "    .dataframe thead th {\n",
       "        text-align: right;\n",
       "    }\n",
       "</style>\n",
       "<table border=\"1\" class=\"dataframe\">\n",
       "  <thead>\n",
       "    <tr style=\"text-align: right;\">\n",
       "      <th></th>\n",
       "      <th>peptide</th>\n",
       "      <th>allele</th>\n",
       "    </tr>\n",
       "  </thead>\n",
       "  <tbody>\n",
       "    <tr>\n",
       "      <th>0</th>\n",
       "      <td>AENDTLVVSV</td>\n",
       "      <td>BoLA-1*21:01</td>\n",
       "    </tr>\n",
       "    <tr>\n",
       "      <th>1</th>\n",
       "      <td>NQFNGGCLLV</td>\n",
       "      <td>BoLA-1*21:01</td>\n",
       "    </tr>\n",
       "    <tr>\n",
       "      <th>2</th>\n",
       "      <td>AAHCIHAEW</td>\n",
       "      <td>BoLA-2*08:01</td>\n",
       "    </tr>\n",
       "    <tr>\n",
       "      <th>3</th>\n",
       "      <td>AAKHMSNTY</td>\n",
       "      <td>BoLA-2*08:01</td>\n",
       "    </tr>\n",
       "    <tr>\n",
       "      <th>4</th>\n",
       "      <td>DSYAYMRNGW</td>\n",
       "      <td>BoLA-2*08:01</td>\n",
       "    </tr>\n",
       "  </tbody>\n",
       "</table>\n",
       "</div>"
      ],
      "text/plain": [
       "      peptide        allele\n",
       "0  AENDTLVVSV  BoLA-1*21:01\n",
       "1  NQFNGGCLLV  BoLA-1*21:01\n",
       "2   AAHCIHAEW  BoLA-2*08:01\n",
       "3   AAKHMSNTY  BoLA-2*08:01\n",
       "4  DSYAYMRNGW  BoLA-2*08:01"
      ]
     },
     "execution_count": 11,
     "metadata": {},
     "output_type": "execute_result"
    }
   ],
   "source": [
    "df.head()"
   ]
  },
  {
   "cell_type": "code",
   "execution_count": 12,
   "metadata": {},
   "outputs": [],
   "source": [
    "df_test = df[df.allele == \"HLA-A*02:01\"].reset_index(drop = True)"
   ]
  },
  {
   "cell_type": "code",
   "execution_count": null,
   "metadata": {},
   "outputs": [],
   "source": [
    "from distance import levenshtein      \n",
    "import numpy as np\n",
    "from sklearn.cluster import dbscan\n",
    "import time\n",
    "\n",
    "# DBSCAN for each mhc otherwise to many and time complexitiy is quadratic\n",
    "t = df_test.peptide.values\n",
    "def lev_metric(x, y):\n",
    "    i, j = int(x[0]), int(y[0])     # extract indices\n",
    "    return levenshtein(t[i], t[j])\n",
    "\n",
    "\n",
    "X = np.arange(len(t)).reshape(-1, 1)\n",
    "start = time.time()\n",
    "te = dbscan(X, metric=lev_metric, eps=5, min_samples=2, algorithm='brute', n_jobs = -1)\n",
    "end = time.time()\n",
    "print(end - start)"
   ]
  },
  {
   "cell_type": "code",
   "execution_count": null,
   "metadata": {},
   "outputs": [],
   "source": [
    "t.shape"
   ]
  },
  {
   "cell_type": "code",
   "execution_count": null,
   "metadata": {},
   "outputs": [],
   "source": [
    "te[0].shape"
   ]
  },
  {
   "cell_type": "code",
   "execution_count": null,
   "metadata": {},
   "outputs": [],
   "source": [
    "te[1].shape"
   ]
  },
  {
   "cell_type": "code",
   "execution_count": null,
   "metadata": {},
   "outputs": [],
   "source": [
    "te[1]"
   ]
  },
  {
   "cell_type": "code",
   "execution_count": null,
   "metadata": {},
   "outputs": [],
   "source": [
    "d = {'col1': t, 'col2': te[1]}\n",
    "pd.DataFrame(d)"
   ]
  },
  {
   "cell_type": "code",
   "execution_count": null,
   "metadata": {},
   "outputs": [],
   "source": []
  },
  {
   "cell_type": "code",
   "execution_count": null,
   "metadata": {},
   "outputs": [],
   "source": []
  }
 ],
 "metadata": {
  "kernelspec": {
   "display_name": "Python 3",
   "language": "python",
   "name": "python3"
  },
  "language_info": {
   "codemirror_mode": {
    "name": "ipython",
    "version": 3
   },
   "file_extension": ".py",
   "mimetype": "text/x-python",
   "name": "python",
   "nbconvert_exporter": "python",
   "pygments_lexer": "ipython3",
   "version": "3.7.5"
  }
 },
 "nbformat": 4,
 "nbformat_minor": 4
}
