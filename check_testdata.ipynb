{
 "cells": [
  {
   "cell_type": "code",
   "execution_count": null,
   "metadata": {},
   "outputs": [],
   "source": []
  },
  {
   "cell_type": "raw",
   "metadata": {},
   "source": [
    "import math\n",
    "import random\n",
    "import matplotlib.pyplot as plt\n",
    "import numpy as np\n",
    "from tqdm import tqdm as tqdm\n",
    "import pandas as pd\n",
    "import os\n",
    "import time\n",
    "import mhcnames\n",
    "\n",
    "from distance import levenshtein      \n",
    "from sklearn.cluster import dbscan\n",
    "\n",
    "import data_transformation\n",
    "import unittest\n",
    "from sklearn.model_selection import train_test_split "
   ]
  },
  {
   "cell_type": "code",
   "execution_count": 36,
   "metadata": {},
   "outputs": [
    {
     "name": "stdout",
     "output_type": "stream",
     "text": [
      "(156996, 2, 34, 20)\n"
     ]
    }
   ],
   "source": [
    "data_class = data_transformation.data_transformation(path_data = \"/data/data_curated_20180219/curated_training_data_no_mass_spec.csv\",\n",
    "                                                     path_mhc = \"/data/aligned_mhc_dataset.csv\",\n",
    "                                                     allele_name = None,\n",
    "                                                     quant_data = True,\n",
    "                                                     encoding = \"one-hot\",\n",
    "                                                     dbscan = False)\n",
    "\n",
    "pep, mhc, target = data_class.__getitem__()\n",
    "\n",
    "pep = np.expand_dims(pep, axis=1)\n",
    "mhc = np.expand_dims(mhc, axis=1)\n",
    "inp = np.hstack((pep, mhc))\n",
    "print(inp.shape)\n",
    "\n",
    "X_train, X_test, y_train, y_test = train_test_split(inp, target.T, test_size=0.2, random_state=42)"
   ]
  },
  {
   "cell_type": "markdown",
   "metadata": {},
   "source": [
    "## Train and Test set have same distribution of the target values"
   ]
  },
  {
   "cell_type": "code",
   "execution_count": 3,
   "metadata": {},
   "outputs": [
    {
     "data": {
      "text/plain": [
       "(array([2.2000e+01, 5.6100e+02, 4.8570e+04, 1.9681e+04, 1.7273e+04,\n",
       "        1.3543e+04, 7.4100e+03, 2.5370e+03, 2.9500e+02, 9.0000e+00]),\n",
       " array([-1.43017093, -1.21535945, -1.00054797, -0.7857365 , -0.57092502,\n",
       "        -0.35611354, -0.14130206,  0.07350942,  0.2883209 ,  0.50313238,\n",
       "         0.71794386]),\n",
       " <a list of 10 Patch objects>)"
      ]
     },
     "execution_count": 3,
     "metadata": {},
     "output_type": "execute_result"
    },
    {
     "data": {
      "image/png": "[encoded data removed]",
      "text/plain": [
       "<Figure size 432x288 with 1 Axes>"
      ]
     },
     "metadata": {
      "needs_background": "light"
     },
     "output_type": "display_data"
    }
   ],
   "source": [
    "plt.hist(y_train.flatten())"
   ]
  },
  {
   "cell_type": "code",
   "execution_count": 4,
   "metadata": {},
   "outputs": [
    {
     "data": {
      "text/plain": [
       "(array([2.1000e+01, 1.5730e+03, 1.2146e+04, 4.8900e+03, 3.8830e+03,\n",
       "        2.9350e+03, 1.6540e+03, 3.5800e+02, 1.3000e+01, 3.0000e+00]),\n",
       " array([-1.34103584, -1.13275871, -0.92448158, -0.71620445, -0.50792732,\n",
       "        -0.29965019, -0.09137306,  0.11690408,  0.32518121,  0.53345834,\n",
       "         0.74173547]),\n",
       " <a list of 10 Patch objects>)"
      ]
     },
     "execution_count": 4,
     "metadata": {},
     "output_type": "execute_result"
    },
    {
     "data": {
      "image/png": "[encoded data removed]",
      "text/plain": [
       "<Figure size 432x288 with 1 Axes>"
      ]
     },
     "metadata": {
      "needs_background": "light"
     },
     "output_type": "display_data"
    }
   ],
   "source": [
    "plt.hist(y_test.flatten())"
   ]
  },
  {
   "cell_type": "code",
   "execution_count": 28,
   "metadata": {},
   "outputs": [
    {
     "data": {
      "text/plain": [
       "(array([3.6000e+01, 3.4400e+03, 1.1075e+04, 1.6142e+04, 1.7125e+04,\n",
       "        4.8132e+04, 1.3387e+04, 5.1300e+02, 4.3000e+01, 8.0000e+00]),\n",
       " array([-5.74179391, -2.60975186,  0.5222902 ,  3.65433226,  6.78637432,\n",
       "         9.91841638, 13.05045843, 16.18250049, 19.31454255, 22.44658461,\n",
       "        25.57862666]),\n",
       " <a list of 10 Patch objects>)"
      ]
     },
     "execution_count": 28,
     "metadata": {},
     "output_type": "execute_result"
    },
    {
     "data": {
      "image/png": "[encoded data removed]",
      "text/plain": [
       "<Figure size 432x288 with 1 Axes>"
      ]
     },
     "metadata": {
      "needs_background": "light"
     },
     "output_type": "display_data"
    }
   ],
   "source": [
    "import import_ipynb\n",
    "import rank_model\n",
    "from scipy.stats import boxcox\n",
    "\n",
    "plt.hist(boxcox(rank_model.reverse_log_transformation(y_train).flatten(), 0.05))"
   ]
  },
  {
   "cell_type": "code",
   "execution_count": 69,
   "metadata": {},
   "outputs": [
    {
     "data": {
      "text/plain": [
       "(array([5.3000e+01, 4.2350e+03, 1.1962e+04, 1.6714e+04, 1.6842e+04,\n",
       "        4.7856e+04, 1.1780e+04, 4.1900e+02, 3.4000e+01, 6.0000e+00]),\n",
       " array([-3.45442436, -2.72698481, -1.99954526, -1.27210571, -0.54466616,\n",
       "         0.18277338,  0.91021293,  1.63765248,  2.36509203,  3.09253157,\n",
       "         3.81997112]),\n",
       " <a list of 10 Patch objects>)"
      ]
     },
     "execution_count": 69,
     "metadata": {},
     "output_type": "execute_result"
    },
    {
     "data": {
      "image/png": "[encoded data removed]",
      "text/plain": [
       "<Figure size 432x288 with 1 Axes>"
      ]
     },
     "metadata": {
      "needs_background": "light"
     },
     "output_type": "display_data"
    }
   ],
   "source": [
    "from sklearn.preprocessing import StandardScaler\n",
    "data = boxcox(rank_model.reverse_log_transformation(y_train), 0.055)#(y_train)\n",
    "scaler = StandardScaler()\n",
    "scaler.fit(data)\n",
    "scaled = scaler.transform(data)\n",
    "plt.hist(scaled)"
   ]
  },
  {
   "cell_type": "code",
   "execution_count": 40,
   "metadata": {},
   "outputs": [
    {
     "data": {
      "text/plain": [
       "(array([1.09882e+05, 9.00000e+00, 5.00000e+00, 2.00000e+00, 2.00000e+00,\n",
       "        0.00000e+00, 0.00000e+00, 0.00000e+00, 0.00000e+00, 1.00000e+00]),\n",
       " array([1.150000e-03, 1.427660e+06, 2.855320e+06, 4.282980e+06,\n",
       "        5.710640e+06, 7.138300e+06, 8.565960e+06, 9.993620e+06,\n",
       "        1.142128e+07, 1.284894e+07, 1.427660e+07]),\n",
       " <a list of 10 Patch objects>)"
      ]
     },
     "execution_count": 40,
     "metadata": {},
     "output_type": "execute_result"
    },
    {
     "data": {
      "image/png": "[encoded data removed]",
      "text/plain": [
       "<Figure size 432x288 with 1 Axes>"
      ]
     },
     "metadata": {
      "needs_background": "light"
     },
     "output_type": "display_data"
    }
   ],
   "source": [
    "# for inverse transformation\n",
    "from scipy.special import inv_boxcox\n",
    "inversed = scaler.inverse_transform(scaled)\n",
    "plt.hist(inv_boxcox(inversed, 0.055))"
   ]
  },
  {
   "cell_type": "code",
   "execution_count": 41,
   "metadata": {},
   "outputs": [
    {
     "data": {
      "text/plain": [
       "(array([1.09882e+05, 9.00000e+00, 5.00000e+00, 2.00000e+00, 2.00000e+00,\n",
       "        0.00000e+00, 0.00000e+00, 0.00000e+00, 0.00000e+00, 1.00000e+00]),\n",
       " array([1.150000e-03, 1.427660e+06, 2.855320e+06, 4.282980e+06,\n",
       "        5.710640e+06, 7.138300e+06, 8.565960e+06, 9.993620e+06,\n",
       "        1.142128e+07, 1.284894e+07, 1.427660e+07]),\n",
       " <a list of 10 Patch objects>)"
      ]
     },
     "execution_count": 41,
     "metadata": {},
     "output_type": "execute_result"
    },
    {
     "data": {
      "image/png": "[encoded data removed]",
      "text/plain": [
       "<Figure size 432x288 with 1 Axes>"
      ]
     },
     "metadata": {
      "needs_background": "light"
     },
     "output_type": "display_data"
    }
   ],
   "source": [
    "plt.hist(rank_model.reverse_log_transformation(y_train).flatten())"
   ]
  },
  {
   "cell_type": "markdown",
   "metadata": {},
   "source": [
    "## Naive Model taking only the mean value lead to RMSE of 0.3"
   ]
  },
  {
   "cell_type": "code",
   "execution_count": 7,
   "metadata": {},
   "outputs": [],
   "source": [
    "pred = np.full(len(y_test.flatten()), np.mean(y_test.flatten()))"
   ]
  },
  {
   "cell_type": "code",
   "execution_count": 8,
   "metadata": {},
   "outputs": [
    {
     "data": {
      "text/plain": [
       "0.29135417313735734"
      ]
     },
     "execution_count": 8,
     "metadata": {},
     "output_type": "execute_result"
    }
   ],
   "source": [
    "error = pred - y_test.flatten()\n",
    "error2 = np.square(error)\n",
    "rmse = np.sqrt(np.mean(error2))\n",
    "rmse"
   ]
  },
  {
   "cell_type": "markdown",
   "metadata": {},
   "source": [
    "## Comparision of input values of test and train set"
   ]
  },
  {
   "cell_type": "code",
   "execution_count": 37,
   "metadata": {},
   "outputs": [
    {
     "name": "stdout",
     "output_type": "stream",
     "text": [
      "0\n",
      "1000\n",
      "2000\n",
      "3000\n",
      "4000\n",
      "5000\n",
      "6000\n",
      "7000\n",
      "8000\n",
      "9000\n"
     ]
    }
   ],
   "source": [
    "results_max = []\n",
    "for j in range(10000):#tqdm(range(10000)):#len(X_train))):\n",
    "    a = X_train[j, 0][~np.all(X_train[j, 0] == 0, axis=1)]\n",
    "    mhc_a = X_train[j, 1][~np.all(X_train[j, 1] == 0, axis=1)]\n",
    "    results = []\n",
    "    for i in range(len(X_test)):\n",
    "        b = X_test[i, 0][~np.all(X_test[i, 0] == 0, axis=1)]\n",
    "        mhc_b = X_test[i, 1][~np.all(X_test[i, 1] == 0, axis=1)]\n",
    "        #print(b.size)\n",
    "        if mhc_a.size == mhc_b.size: #here for now easier looping\n",
    "            if a.size > b.size:\n",
    "                temp_b = np.zeros(a.shape)\n",
    "                temp_b[:b.shape[0],:b.shape[1]] = b\n",
    "                temp = np.sum(np.all(a == temp_b, axis=1))\n",
    "            elif a.size < b.size:\n",
    "                temp_a = np.zeros(b.shape)\n",
    "                temp_a[:a.shape[0],:a.shape[1]] = a\n",
    "                temp = np.sum(np.all(temp_a == b, axis=1))\n",
    "            else:\n",
    "                temp = np.sum(np.all(a == b, axis=1))\n",
    "            temp_mhc = np.sum(np.all(mhc_a == mhc_b, axis=1))\n",
    "            if a.shape[1] >= b.shape[1]:\n",
    "                results.append([temp / a.shape[0], temp_mhc / mhc_a.shape[0]])\n",
    "            else:\n",
    "                results.append([temp / b.shape[0], temp_mhc / mhc_a.shape[0]])\n",
    "    #print(results)\n",
    "    if j % 1000 == 0:\n",
    "        print(j)\n",
    "    results_max.append(max(np.mean(results, axis = 1)))"
   ]
  },
  {
   "cell_type": "code",
   "execution_count": 13,
   "metadata": {},
   "outputs": [
    {
     "data": {
      "text/plain": [
       "(array([3., 0., 0., 0., 0., 0., 0., 0., 0., 0., 0., 1., 0., 0., 1., 0., 0.,\n",
       "        1., 0., 1.]),\n",
       " array([0.7       , 0.71352941, 0.72705882, 0.74058824, 0.75411765,\n",
       "        0.76764706, 0.78117647, 0.79470588, 0.80823529, 0.82176471,\n",
       "        0.83529412, 0.84882353, 0.86235294, 0.87588235, 0.88941176,\n",
       "        0.90294118, 0.91647059, 0.93      , 0.94352941, 0.95705882,\n",
       "        0.97058824]),\n",
       " <a list of 20 Patch objects>)"
      ]
     },
     "execution_count": 13,
     "metadata": {},
     "output_type": "execute_result"
    },
    {
     "data": {
      "image/png": "[encoded data removed]",
      "text/plain": [
       "<Figure size 432x288 with 1 Axes>"
      ]
     },
     "metadata": {
      "needs_background": "light"
     },
     "output_type": "display_data"
    }
   ],
   "source": [
    "plt.hist(results_max, bins = 20)"
   ]
  },
  {
   "cell_type": "code",
   "execution_count": 23,
   "metadata": {},
   "outputs": [
    {
     "data": {
      "text/plain": [
       "0.8403069815805109"
      ]
     },
     "execution_count": 23,
     "metadata": {},
     "output_type": "execute_result"
    }
   ],
   "source": [
    "np.mean(results_max)"
   ]
  },
  {
   "cell_type": "code",
   "execution_count": 38,
   "metadata": {},
   "outputs": [],
   "source": [
    "np.save(\"naive_split.npy\", results_max)"
   ]
  },
  {
   "cell_type": "markdown",
   "metadata": {},
   "source": [
    "## Order Pandas by levensthein distance"
   ]
  },
  {
   "cell_type": "code",
   "execution_count": 12,
   "metadata": {},
   "outputs": [],
   "source": [
    "cwd = os.getcwd()\n",
    "os.chdir('..')\n",
    "os.chdir('..')\n",
    "os.chdir('..')\n",
    "current_path = os.getcwd()\n",
    "dfcl = pd.read_csv(current_path + \"/data/data_curated_20180219/curated_training_data_no_mass_spec.csv\")\n",
    "os.chdir(cwd) \n",
    "df = dfcl[dfcl.measurement_type == \"quantitative\"].loc[:, ['peptide', 'allele']].drop_duplicates().reset_index(drop = True)"
   ]
  },
  {
   "cell_type": "code",
   "execution_count": 3,
   "metadata": {},
   "outputs": [
    {
     "data": {
      "text/html": [
       "<div>\n",
       "<style scoped>\n",
       "    .dataframe tbody tr th:only-of-type {\n",
       "        vertical-align: middle;\n",
       "    }\n",
       "\n",
       "    .dataframe tbody tr th {\n",
       "        vertical-align: top;\n",
       "    }\n",
       "\n",
       "    .dataframe thead th {\n",
       "        text-align: right;\n",
       "    }\n",
       "</style>\n",
       "<table border=\"1\" class=\"dataframe\">\n",
       "  <thead>\n",
       "    <tr style=\"text-align: right;\">\n",
       "      <th></th>\n",
       "      <th>peptide</th>\n",
       "      <th>allele</th>\n",
       "    </tr>\n",
       "  </thead>\n",
       "  <tbody>\n",
       "    <tr>\n",
       "      <th>0</th>\n",
       "      <td>AENDTLVVSV</td>\n",
       "      <td>BoLA-1*21:01</td>\n",
       "    </tr>\n",
       "    <tr>\n",
       "      <th>1</th>\n",
       "      <td>NQFNGGCLLV</td>\n",
       "      <td>BoLA-1*21:01</td>\n",
       "    </tr>\n",
       "    <tr>\n",
       "      <th>2</th>\n",
       "      <td>AAHCIHAEW</td>\n",
       "      <td>BoLA-2*08:01</td>\n",
       "    </tr>\n",
       "    <tr>\n",
       "      <th>3</th>\n",
       "      <td>AAKHMSNTY</td>\n",
       "      <td>BoLA-2*08:01</td>\n",
       "    </tr>\n",
       "    <tr>\n",
       "      <th>4</th>\n",
       "      <td>DSYAYMRNGW</td>\n",
       "      <td>BoLA-2*08:01</td>\n",
       "    </tr>\n",
       "  </tbody>\n",
       "</table>\n",
       "</div>"
      ],
      "text/plain": [
       "      peptide        allele\n",
       "0  AENDTLVVSV  BoLA-1*21:01\n",
       "1  NQFNGGCLLV  BoLA-1*21:01\n",
       "2   AAHCIHAEW  BoLA-2*08:01\n",
       "3   AAKHMSNTY  BoLA-2*08:01\n",
       "4  DSYAYMRNGW  BoLA-2*08:01"
      ]
     },
     "execution_count": 3,
     "metadata": {},
     "output_type": "execute_result"
    }
   ],
   "source": [
    "df.head()"
   ]
  },
  {
   "cell_type": "code",
   "execution_count": null,
   "metadata": {},
   "outputs": [],
   "source": [
    "def lev_metric(x, y):\n",
    "    i, j = int(x[0]), int(y[0])     # extract indices\n",
    "    return levenshtein(t[i], t[j])\n",
    "\n",
    "grouping = df.groupby('allele')\n",
    "list_values = []\n",
    "\n",
    "for name, group in tqdm(grouping):\n",
    "    df_test = df[df.allele == name].reset_index(drop = True)\n",
    "    t = df_test.peptide.values\n",
    "    X = np.arange(len(t)).reshape(-1, 1)\n",
    "    #start = time.time()\n",
    "    te = dbscan(X, metric=lev_metric, eps=4, min_samples=2, algorithm='brute')\n",
    "    #end = time.time()\n",
    "    #print(end - start)\n",
    "\n",
    "    d = {'name_allele': np.repeat(name,te[1].shape[0]), 'name_peptide': t, 'dbscan_cluster': te[1]}\n",
    "    list_values.append(d)\n",
    "    \n",
    "df_cluster = pd.concat([pd.DataFrame(l) for l in list_values],axis=0)"
   ]
  },
  {
   "cell_type": "code",
   "execution_count": 10,
   "metadata": {},
   "outputs": [
    {
     "data": {
      "text/plain": [
       "(158963, 3)"
      ]
     },
     "execution_count": 10,
     "metadata": {},
     "output_type": "execute_result"
    }
   ],
   "source": [
    "df_cluster.shape"
   ]
  },
  {
   "cell_type": "code",
   "execution_count": 8,
   "metadata": {},
   "outputs": [
    {
     "data": {
      "text/plain": [
       "(58543, 3)"
      ]
     },
     "execution_count": 8,
     "metadata": {},
     "output_type": "execute_result"
    }
   ],
   "source": [
    "df_cluster[df_cluster.dbscan_cluster == -1].shape"
   ]
  },
  {
   "cell_type": "code",
   "execution_count": 18,
   "metadata": {},
   "outputs": [],
   "source": [
    "merge_df = pd.merge(dfcl, df_cluster, left_on = [\"allele\", \"peptide\"], right_on = [\"name_allele\", 'name_peptide'], how='left').drop(['name_peptide', 'name_allele'], axis = 1)"
   ]
  },
  {
   "cell_type": "code",
   "execution_count": 19,
   "metadata": {},
   "outputs": [],
   "source": [
    "merge_df.to_csv(\"C:/Users/paul_/OneDrive/Desktop/master-thesis/data/data_curated_20180219/curated_training_data_no_mass_spec_dbscan.csv\")"
   ]
  },
  {
   "cell_type": "markdown",
   "metadata": {},
   "source": [
    "## Test DBSCAN split"
   ]
  },
  {
   "cell_type": "code",
   "execution_count": 4,
   "metadata": {},
   "outputs": [
    {
     "name": "stdout",
     "output_type": "stream",
     "text": [
      "(156996, 2, 34, 20)\n"
     ]
    }
   ],
   "source": [
    "data_class = data_transformation.data_transformation(path_data = \"/data/data_curated_20180219/curated_training_data_no_mass_spec_dbscan.csv\",\n",
    "                                                     path_mhc = \"/data/aligned_mhc_dataset.csv\",\n",
    "                                                     allele_name = None,\n",
    "                                                     quant_data = True,\n",
    "                                                     encoding = \"one-hot\")\n",
    "\n",
    "pep, mhc, target, dbscan = data_class.__getitem__()\n",
    "\n",
    "pep = np.expand_dims(pep, axis=1)\n",
    "mhc = np.expand_dims(mhc, axis=1)\n",
    "inp = np.hstack((pep, mhc))\n",
    "print(inp.shape)\n",
    "\n",
    "np.random.seed(17) #17=0.695, 34=0.694, 100017=0.696\n",
    "test_index = np.random.choice(np.where(dbscan.T == -1)[0],\n",
    "                              size = int(np.round(dbscan.T.shape[0] * 0.1)),\n",
    "                              replace = False)\n",
    "\n",
    "X_train = inp[~np.isin(np.arange(len(inp)), test_index)]\n",
    "X_test = inp[np.isin(np.arange(len(inp)), test_index)]\n",
    "y_train = target.T[~np.isin(np.arange(len(target.T)), test_index)]\n",
    "y_test = target.T[np.isin(np.arange(len(target.T)), test_index)]"
   ]
  },
  {
   "cell_type": "code",
   "execution_count": 5,
   "metadata": {},
   "outputs": [],
   "source": [
    "np.save(\"train_target_dist.npy\", y_train)\n",
    "np.save(\"test_target_dist.npy\", y_test)"
   ]
  },
  {
   "cell_type": "code",
   "execution_count": 35,
   "metadata": {},
   "outputs": [
    {
     "data": {
      "text/plain": [
       "57798"
      ]
     },
     "execution_count": 35,
     "metadata": {},
     "output_type": "execute_result"
    }
   ],
   "source": [
    "len(np.where(dbscan.T == -1)[0])"
   ]
  },
  {
   "cell_type": "code",
   "execution_count": 39,
   "metadata": {},
   "outputs": [
    {
     "data": {
      "text/plain": [
       "(125597, 2, 34, 20)"
      ]
     },
     "execution_count": 39,
     "metadata": {},
     "output_type": "execute_result"
    }
   ],
   "source": [
    "X_train.shape"
   ]
  },
  {
   "cell_type": "code",
   "execution_count": 40,
   "metadata": {},
   "outputs": [
    {
     "data": {
      "text/plain": [
       "(31399, 2, 34, 20)"
      ]
     },
     "execution_count": 40,
     "metadata": {},
     "output_type": "execute_result"
    }
   ],
   "source": [
    "X_test.shape"
   ]
  },
  {
   "cell_type": "code",
   "execution_count": 41,
   "metadata": {},
   "outputs": [
    {
     "data": {
      "text/plain": [
       "(125597, 1)"
      ]
     },
     "execution_count": 41,
     "metadata": {},
     "output_type": "execute_result"
    }
   ],
   "source": [
    "y_train.shape"
   ]
  },
  {
   "cell_type": "code",
   "execution_count": 42,
   "metadata": {},
   "outputs": [
    {
     "data": {
      "text/plain": [
       "(31399, 1)"
      ]
     },
     "execution_count": 42,
     "metadata": {},
     "output_type": "execute_result"
    }
   ],
   "source": [
    "y_test.shape"
   ]
  },
  {
   "cell_type": "code",
   "execution_count": 43,
   "metadata": {},
   "outputs": [
    {
     "data": {
      "text/plain": [
       "(-1.5, 0.75)"
      ]
     },
     "execution_count": 43,
     "metadata": {},
     "output_type": "execute_result"
    },
    {
     "data": {
      "image/png": "[encoded data removed]",
      "text/plain": [
       "<Figure size 432x288 with 1 Axes>"
      ]
     },
     "metadata": {
      "needs_background": "light"
     },
     "output_type": "display_data"
    }
   ],
   "source": [
    "plt.hist(y_train.flatten())\n",
    "plt.xlim(-1.5, 0.75)"
   ]
  },
  {
   "cell_type": "code",
   "execution_count": 44,
   "metadata": {},
   "outputs": [
    {
     "data": {
      "text/plain": [
       "(-1.5, 0.75)"
      ]
     },
     "execution_count": 44,
     "metadata": {},
     "output_type": "execute_result"
    },
    {
     "data": {
      "image/png": "[encoded data removed]",
      "text/plain": [
       "<Figure size 432x288 with 1 Axes>"
      ]
     },
     "metadata": {
      "needs_background": "light"
     },
     "output_type": "display_data"
    }
   ],
   "source": [
    "plt.hist(y_test.flatten())\n",
    "plt.xlim(-1.5, 0.75)"
   ]
  },
  {
   "cell_type": "code",
   "execution_count": 151,
   "metadata": {},
   "outputs": [
    {
     "name": "stdout",
     "output_type": "stream",
     "text": [
      "0\n",
      "1000\n",
      "2000\n",
      "3000\n",
      "4000\n",
      "5000\n",
      "6000\n",
      "7000\n",
      "8000\n",
      "9000\n"
     ]
    }
   ],
   "source": [
    "results_max = []\n",
    "for j in range(10000):#len(X_train))):\n",
    "    a = X_train[j, 0][~np.all(X_train[j, 0] == 0, axis=1)]\n",
    "    mhc_a = X_train[j, 1][~np.all(X_train[j, 1] == 0, axis=1)]\n",
    "    results = []\n",
    "    for i in range(len(X_test)):\n",
    "        b = X_test[i, 0][~np.all(X_test[i, 0] == 0, axis=1)]\n",
    "        mhc_b = X_test[i, 1][~np.all(X_test[i, 1] == 0, axis=1)]\n",
    "        #print(b.size)\n",
    "        if mhc_a.size == mhc_b.size: #here for now easier looping\n",
    "            if a.size > b.size:\n",
    "                temp_b = np.zeros(a.shape)\n",
    "                temp_b[:b.shape[0],:b.shape[1]] = b\n",
    "                temp = np.sum(np.all(a == temp_b, axis=1))\n",
    "            elif a.size < b.size:\n",
    "                temp_a = np.zeros(b.shape)\n",
    "                temp_a[:a.shape[0],:a.shape[1]] = a\n",
    "                temp = np.sum(np.all(temp_a == b, axis=1))\n",
    "            else:\n",
    "                temp = np.sum(np.all(a == b, axis=1))\n",
    "            temp_mhc = np.sum(np.all(mhc_a == mhc_b, axis=1))\n",
    "            if a.shape[1] >= b.shape[1]:\n",
    "                results.append([temp / a.shape[0], temp_mhc / mhc_a.shape[0]])\n",
    "            else:\n",
    "                results.append([temp / b.shape[0], temp_mhc / mhc_a.shape[0]])\n",
    "    #print(results)\n",
    "    if j % 1000 == 0:\n",
    "        print(j)\n",
    "    results_max.append(max(np.mean(results, axis = 1)))"
   ]
  },
  {
   "cell_type": "code",
   "execution_count": 46,
   "metadata": {},
   "outputs": [
    {
     "data": {
      "text/plain": [
       "(array([  1.,   1.,   0.,   5.,   1.,   5.,  12.,  31., 149.,  60., 203.,\n",
       "         14.,  13.,   2.,   2.,   0.,   0.,   0.,   0.,   1.]),\n",
       " array([0.45      , 0.47676471, 0.50352941, 0.53029412, 0.55705882,\n",
       "        0.58382353, 0.61058824, 0.63735294, 0.66411765, 0.69088235,\n",
       "        0.71764706, 0.74441176, 0.77117647, 0.79794118, 0.82470588,\n",
       "        0.85147059, 0.87823529, 0.905     , 0.93176471, 0.95852941,\n",
       "        0.98529412]),\n",
       " <a list of 20 Patch objects>)"
      ]
     },
     "execution_count": 46,
     "metadata": {},
     "output_type": "execute_result"
    },
    {
     "data": {
      "image/png": "[encoded data removed]",
      "text/plain": [
       "<Figure size 432x288 with 1 Axes>"
      ]
     },
     "metadata": {
      "needs_background": "light"
     },
     "output_type": "display_data"
    }
   ],
   "source": [
    "plt.hist(results_max, bins = 20)"
   ]
  },
  {
   "cell_type": "code",
   "execution_count": 47,
   "metadata": {},
   "outputs": [
    {
     "data": {
      "text/plain": [
       "0.6954677361853832"
      ]
     },
     "execution_count": 47,
     "metadata": {},
     "output_type": "execute_result"
    }
   ],
   "source": [
    "np.mean(results_max)"
   ]
  },
  {
   "cell_type": "code",
   "execution_count": 152,
   "metadata": {},
   "outputs": [],
   "source": [
    "np.save(\"dbscan_split.npy\", results_max)"
   ]
  },
  {
   "cell_type": "markdown",
   "metadata": {},
   "source": [
    "## Generate evaluation testset"
   ]
  },
  {
   "cell_type": "code",
   "execution_count": 15,
   "metadata": {},
   "outputs": [],
   "source": [
    "def normalize(s, disallowed=[\"MIC\", \"HFE\"]):\n",
    "    if any(item in s for item in disallowed):\n",
    "        return None\n",
    "    try:\n",
    "        return mhcnames.normalize_allele_name(s)\n",
    "    except:\n",
    "        while s:\n",
    "            s = \":\".join(s.split(\":\")[:-1])\n",
    "            try:\n",
    "                return mhcnames.normalize_allele_name(s)\n",
    "            except:\n",
    "                pass\n",
    "        return None"
   ]
  },
  {
   "cell_type": "code",
   "execution_count": 16,
   "metadata": {},
   "outputs": [],
   "source": [
    "training = pd.read_csv(\"C:/Users/paul_/OneDrive/Desktop/master-thesis/data/data_curated_20180219/curated_training_data_no_mass_spec_dbscan.csv\")\n",
    "test = pd.read_csv(\"C:/Users/paul_/OneDrive/Desktop/master-thesis/data/test_data_all_allele.csv\")\n",
    "new_test = pd.read_csv(\"C:/Users/paul_/OneDrive/Desktop/master-thesis/data/all_possible_testdata.csv\")"
   ]
  },
  {
   "cell_type": "code",
   "execution_count": 17,
   "metadata": {},
   "outputs": [
    {
     "data": {
      "text/html": [
       "<div>\n",
       "<style scoped>\n",
       "    .dataframe tbody tr th:only-of-type {\n",
       "        vertical-align: middle;\n",
       "    }\n",
       "\n",
       "    .dataframe tbody tr th {\n",
       "        vertical-align: top;\n",
       "    }\n",
       "\n",
       "    .dataframe thead th {\n",
       "        text-align: right;\n",
       "    }\n",
       "</style>\n",
       "<table border=\"1\" class=\"dataframe\">\n",
       "  <thead>\n",
       "    <tr style=\"text-align: right;\">\n",
       "      <th></th>\n",
       "      <th>Unnamed: 0</th>\n",
       "      <th>allele</th>\n",
       "      <th>peptide</th>\n",
       "      <th>measurement_value</th>\n",
       "      <th>measurement_inequality</th>\n",
       "      <th>measurement_type</th>\n",
       "      <th>measurement_source</th>\n",
       "      <th>original_allele</th>\n",
       "      <th>dbscan_cluster</th>\n",
       "    </tr>\n",
       "  </thead>\n",
       "  <tbody>\n",
       "    <tr>\n",
       "      <th>0</th>\n",
       "      <td>0</td>\n",
       "      <td>BoLA-1*21:01</td>\n",
       "      <td>AENDTLVVSV</td>\n",
       "      <td>7817.0</td>\n",
       "      <td>=</td>\n",
       "      <td>quantitative</td>\n",
       "      <td>Barlow - purified MHC/competitive/fluorescence</td>\n",
       "      <td>BoLA-1*02101</td>\n",
       "      <td>-1.0</td>\n",
       "    </tr>\n",
       "    <tr>\n",
       "      <th>1</th>\n",
       "      <td>1</td>\n",
       "      <td>BoLA-1*21:01</td>\n",
       "      <td>NQFNGGCLLV</td>\n",
       "      <td>1086.0</td>\n",
       "      <td>=</td>\n",
       "      <td>quantitative</td>\n",
       "      <td>Barlow - purified MHC/direct/fluorescence</td>\n",
       "      <td>BoLA-1*02101</td>\n",
       "      <td>-1.0</td>\n",
       "    </tr>\n",
       "    <tr>\n",
       "      <th>2</th>\n",
       "      <td>2</td>\n",
       "      <td>BoLA-2*08:01</td>\n",
       "      <td>AAHCIHAEW</td>\n",
       "      <td>21.0</td>\n",
       "      <td>=</td>\n",
       "      <td>quantitative</td>\n",
       "      <td>Barlow - purified MHC/direct/fluorescence</td>\n",
       "      <td>BoLA-2*00801</td>\n",
       "      <td>0.0</td>\n",
       "    </tr>\n",
       "    <tr>\n",
       "      <th>3</th>\n",
       "      <td>3</td>\n",
       "      <td>BoLA-2*08:01</td>\n",
       "      <td>AAKHMSNTY</td>\n",
       "      <td>1299.0</td>\n",
       "      <td>=</td>\n",
       "      <td>quantitative</td>\n",
       "      <td>Barlow - purified MHC/direct/fluorescence</td>\n",
       "      <td>BoLA-2*00801</td>\n",
       "      <td>1.0</td>\n",
       "    </tr>\n",
       "    <tr>\n",
       "      <th>4</th>\n",
       "      <td>4</td>\n",
       "      <td>BoLA-2*08:01</td>\n",
       "      <td>DSYAYMRNGW</td>\n",
       "      <td>2.0</td>\n",
       "      <td>=</td>\n",
       "      <td>quantitative</td>\n",
       "      <td>Barlow - purified MHC/direct/fluorescence</td>\n",
       "      <td>BoLA-2*00801</td>\n",
       "      <td>-1.0</td>\n",
       "    </tr>\n",
       "  </tbody>\n",
       "</table>\n",
       "</div>"
      ],
      "text/plain": [
       "   Unnamed: 0        allele     peptide  measurement_value  \\\n",
       "0           0  BoLA-1*21:01  AENDTLVVSV             7817.0   \n",
       "1           1  BoLA-1*21:01  NQFNGGCLLV             1086.0   \n",
       "2           2  BoLA-2*08:01   AAHCIHAEW               21.0   \n",
       "3           3  BoLA-2*08:01   AAKHMSNTY             1299.0   \n",
       "4           4  BoLA-2*08:01  DSYAYMRNGW                2.0   \n",
       "\n",
       "  measurement_inequality measurement_type  \\\n",
       "0                      =     quantitative   \n",
       "1                      =     quantitative   \n",
       "2                      =     quantitative   \n",
       "3                      =     quantitative   \n",
       "4                      =     quantitative   \n",
       "\n",
       "                               measurement_source original_allele  \\\n",
       "0  Barlow - purified MHC/competitive/fluorescence    BoLA-1*02101   \n",
       "1       Barlow - purified MHC/direct/fluorescence    BoLA-1*02101   \n",
       "2       Barlow - purified MHC/direct/fluorescence    BoLA-2*00801   \n",
       "3       Barlow - purified MHC/direct/fluorescence    BoLA-2*00801   \n",
       "4       Barlow - purified MHC/direct/fluorescence    BoLA-2*00801   \n",
       "\n",
       "   dbscan_cluster  \n",
       "0            -1.0  \n",
       "1            -1.0  \n",
       "2             0.0  \n",
       "3             1.0  \n",
       "4            -1.0  "
      ]
     },
     "execution_count": 17,
     "metadata": {},
     "output_type": "execute_result"
    }
   ],
   "source": [
    "training.head()"
   ]
  },
  {
   "cell_type": "code",
   "execution_count": 18,
   "metadata": {},
   "outputs": [
    {
     "data": {
      "text/html": [
       "<div>\n",
       "<style scoped>\n",
       "    .dataframe tbody tr th:only-of-type {\n",
       "        vertical-align: middle;\n",
       "    }\n",
       "\n",
       "    .dataframe tbody tr th {\n",
       "        vertical-align: top;\n",
       "    }\n",
       "\n",
       "    .dataframe thead th {\n",
       "        text-align: right;\n",
       "    }\n",
       "</style>\n",
       "<table border=\"1\" class=\"dataframe\">\n",
       "  <thead>\n",
       "    <tr style=\"text-align: right;\">\n",
       "      <th></th>\n",
       "      <th>allele</th>\n",
       "      <th>peptide</th>\n",
       "      <th>measurement_value</th>\n",
       "      <th>original_allele</th>\n",
       "      <th>measurement_type</th>\n",
       "      <th>measurement_source</th>\n",
       "    </tr>\n",
       "  </thead>\n",
       "  <tbody>\n",
       "    <tr>\n",
       "      <th>0</th>\n",
       "      <td>H-2-Db</td>\n",
       "      <td>AAIRGNDVI</td>\n",
       "      <td>10.75050</td>\n",
       "      <td>H2-Db</td>\n",
       "      <td>quantitative</td>\n",
       "      <td>Tscharke - purified MHC/competitive/radioactivity</td>\n",
       "    </tr>\n",
       "    <tr>\n",
       "      <th>1</th>\n",
       "      <td>H-2-Db</td>\n",
       "      <td>ALPTNEFISFL</td>\n",
       "      <td>79.21390</td>\n",
       "      <td>H2-Db</td>\n",
       "      <td>quantitative</td>\n",
       "      <td>Tscharke - purified MHC/competitive/radioactivity</td>\n",
       "    </tr>\n",
       "    <tr>\n",
       "      <th>2</th>\n",
       "      <td>H-2-Db</td>\n",
       "      <td>APGSPTNLEFI</td>\n",
       "      <td>14.03950</td>\n",
       "      <td>H2-Db</td>\n",
       "      <td>quantitative</td>\n",
       "      <td>Tscharke - purified MHC/competitive/radioactivity</td>\n",
       "    </tr>\n",
       "    <tr>\n",
       "      <th>3</th>\n",
       "      <td>H-2-Db</td>\n",
       "      <td>ASLKNFKEL</td>\n",
       "      <td>6.72472</td>\n",
       "      <td>H2-Db</td>\n",
       "      <td>quantitative</td>\n",
       "      <td>Tscharke - purified MHC/competitive/radioactivity</td>\n",
       "    </tr>\n",
       "    <tr>\n",
       "      <th>4</th>\n",
       "      <td>H-2-Db</td>\n",
       "      <td>DIKNLLTACTI</td>\n",
       "      <td>27.15940</td>\n",
       "      <td>H2-Db</td>\n",
       "      <td>quantitative</td>\n",
       "      <td>Tscharke - purified MHC/competitive/radioactivity</td>\n",
       "    </tr>\n",
       "  </tbody>\n",
       "</table>\n",
       "</div>"
      ],
      "text/plain": [
       "   allele      peptide  measurement_value original_allele measurement_type  \\\n",
       "0  H-2-Db    AAIRGNDVI           10.75050           H2-Db     quantitative   \n",
       "1  H-2-Db  ALPTNEFISFL           79.21390           H2-Db     quantitative   \n",
       "2  H-2-Db  APGSPTNLEFI           14.03950           H2-Db     quantitative   \n",
       "3  H-2-Db    ASLKNFKEL            6.72472           H2-Db     quantitative   \n",
       "4  H-2-Db  DIKNLLTACTI           27.15940           H2-Db     quantitative   \n",
       "\n",
       "                                  measurement_source  \n",
       "0  Tscharke - purified MHC/competitive/radioactivity  \n",
       "1  Tscharke - purified MHC/competitive/radioactivity  \n",
       "2  Tscharke - purified MHC/competitive/radioactivity  \n",
       "3  Tscharke - purified MHC/competitive/radioactivity  \n",
       "4  Tscharke - purified MHC/competitive/radioactivity  "
      ]
     },
     "execution_count": 18,
     "metadata": {},
     "output_type": "execute_result"
    }
   ],
   "source": [
    "test = test.loc[:, [\"allele\", \"peptide\", \"measurement_value\", \"original_allele\", \"measurement_type\", \"measurement_source\"]]\n",
    "test.head()"
   ]
  },
  {
   "cell_type": "code",
   "execution_count": 19,
   "metadata": {},
   "outputs": [],
   "source": [
    "new_test['allele'] = new_test['original_allele'].apply(normalize)"
   ]
  },
  {
   "cell_type": "code",
   "execution_count": 20,
   "metadata": {},
   "outputs": [],
   "source": [
    "new_test\n",
    "new_test = pd.merge(new_test, training,\n",
    "                          right_on = ['allele', \"peptide\"],\n",
    "                          left_on = ['allele', \"peptide\"],\n",
    "                          how = 'left',\n",
    "                          suffixes=('', '_y'),)\n",
    "new_test = new_test[pd.isnull(new_test['original_allele_y'])].reset_index(drop = True)\n",
    "new_test = new_test.loc[:, [\"allele\", \"peptide\", \"measurement_value\", \"original_allele\", \"measurement_type\", \"measurement_source\"]]"
   ]
  },
  {
   "cell_type": "code",
   "execution_count": 21,
   "metadata": {},
   "outputs": [
    {
     "name": "stdout",
     "output_type": "stream",
     "text": [
      "2115\n"
     ]
    },
    {
     "data": {
      "text/html": [
       "<div>\n",
       "<style scoped>\n",
       "    .dataframe tbody tr th:only-of-type {\n",
       "        vertical-align: middle;\n",
       "    }\n",
       "\n",
       "    .dataframe tbody tr th {\n",
       "        vertical-align: top;\n",
       "    }\n",
       "\n",
       "    .dataframe thead th {\n",
       "        text-align: right;\n",
       "    }\n",
       "</style>\n",
       "<table border=\"1\" class=\"dataframe\">\n",
       "  <thead>\n",
       "    <tr style=\"text-align: right;\">\n",
       "      <th></th>\n",
       "      <th>allele</th>\n",
       "      <th>peptide</th>\n",
       "      <th>measurement_value</th>\n",
       "      <th>original_allele</th>\n",
       "      <th>measurement_type</th>\n",
       "      <th>measurement_source</th>\n",
       "    </tr>\n",
       "  </thead>\n",
       "  <tbody>\n",
       "    <tr>\n",
       "      <th>0</th>\n",
       "      <td>H-2-Db</td>\n",
       "      <td>AAIRGNDVI</td>\n",
       "      <td>10.8</td>\n",
       "      <td>H2-Db</td>\n",
       "      <td>quantitative</td>\n",
       "      <td>NaN</td>\n",
       "    </tr>\n",
       "    <tr>\n",
       "      <th>1</th>\n",
       "      <td>Mamu-A*01:11</td>\n",
       "      <td>AANLWVTVY</td>\n",
       "      <td>18800.0</td>\n",
       "      <td>Mamu-A1*011:01</td>\n",
       "      <td>quantitative</td>\n",
       "      <td>NaN</td>\n",
       "    </tr>\n",
       "    <tr>\n",
       "      <th>2</th>\n",
       "      <td>HLA-B*07:02</td>\n",
       "      <td>ACDGERPTL</td>\n",
       "      <td>28719.0</td>\n",
       "      <td>HLA-B*07:02</td>\n",
       "      <td>quantitative</td>\n",
       "      <td>NaN</td>\n",
       "    </tr>\n",
       "    <tr>\n",
       "      <th>3</th>\n",
       "      <td>HLA-A*02:01</td>\n",
       "      <td>ACDPHSGHFV</td>\n",
       "      <td>1813.0</td>\n",
       "      <td>HLA-A*02:01</td>\n",
       "      <td>quantitative</td>\n",
       "      <td>NaN</td>\n",
       "    </tr>\n",
       "    <tr>\n",
       "      <th>4</th>\n",
       "      <td>Mamu-A*01:11</td>\n",
       "      <td>ADASTPESANL</td>\n",
       "      <td>19800.0</td>\n",
       "      <td>Mamu-A1*011:01</td>\n",
       "      <td>quantitative</td>\n",
       "      <td>NaN</td>\n",
       "    </tr>\n",
       "  </tbody>\n",
       "</table>\n",
       "</div>"
      ],
      "text/plain": [
       "         allele      peptide  measurement_value original_allele  \\\n",
       "0        H-2-Db    AAIRGNDVI               10.8           H2-Db   \n",
       "1  Mamu-A*01:11    AANLWVTVY            18800.0  Mamu-A1*011:01   \n",
       "2   HLA-B*07:02    ACDGERPTL            28719.0     HLA-B*07:02   \n",
       "3   HLA-A*02:01   ACDPHSGHFV             1813.0     HLA-A*02:01   \n",
       "4  Mamu-A*01:11  ADASTPESANL            19800.0  Mamu-A1*011:01   \n",
       "\n",
       "  measurement_type measurement_source  \n",
       "0     quantitative                NaN  \n",
       "1     quantitative                NaN  \n",
       "2     quantitative                NaN  \n",
       "3     quantitative                NaN  \n",
       "4     quantitative                NaN  "
      ]
     },
     "execution_count": 21,
     "metadata": {},
     "output_type": "execute_result"
    }
   ],
   "source": [
    "print(len(new_test))\n",
    "new_test.head()"
   ]
  },
  {
   "cell_type": "code",
   "execution_count": 22,
   "metadata": {},
   "outputs": [],
   "source": [
    "new_testset = test.append(new_test).drop_duplicates().reset_index(drop = True)"
   ]
  },
  {
   "cell_type": "code",
   "execution_count": 31,
   "metadata": {},
   "outputs": [
    {
     "name": "stdout",
     "output_type": "stream",
     "text": [
      "2421\n"
     ]
    },
    {
     "data": {
      "text/html": [
       "<div>\n",
       "<style scoped>\n",
       "    .dataframe tbody tr th:only-of-type {\n",
       "        vertical-align: middle;\n",
       "    }\n",
       "\n",
       "    .dataframe tbody tr th {\n",
       "        vertical-align: top;\n",
       "    }\n",
       "\n",
       "    .dataframe thead th {\n",
       "        text-align: right;\n",
       "    }\n",
       "</style>\n",
       "<table border=\"1\" class=\"dataframe\">\n",
       "  <thead>\n",
       "    <tr style=\"text-align: right;\">\n",
       "      <th></th>\n",
       "      <th>allele</th>\n",
       "      <th>peptide</th>\n",
       "      <th>measurement_value</th>\n",
       "      <th>original_allele</th>\n",
       "      <th>measurement_type</th>\n",
       "      <th>measurement_source</th>\n",
       "    </tr>\n",
       "  </thead>\n",
       "  <tbody>\n",
       "    <tr>\n",
       "      <th>0</th>\n",
       "      <td>H-2-Db</td>\n",
       "      <td>AAIRGNDVI</td>\n",
       "      <td>10.75050</td>\n",
       "      <td>H2-Db</td>\n",
       "      <td>quantitative</td>\n",
       "      <td>Tscharke - purified MHC/competitive/radioactivity</td>\n",
       "    </tr>\n",
       "    <tr>\n",
       "      <th>1</th>\n",
       "      <td>H-2-Db</td>\n",
       "      <td>ALPTNEFISFL</td>\n",
       "      <td>79.21390</td>\n",
       "      <td>H2-Db</td>\n",
       "      <td>quantitative</td>\n",
       "      <td>Tscharke - purified MHC/competitive/radioactivity</td>\n",
       "    </tr>\n",
       "    <tr>\n",
       "      <th>2</th>\n",
       "      <td>H-2-Db</td>\n",
       "      <td>APGSPTNLEFI</td>\n",
       "      <td>14.03950</td>\n",
       "      <td>H2-Db</td>\n",
       "      <td>quantitative</td>\n",
       "      <td>Tscharke - purified MHC/competitive/radioactivity</td>\n",
       "    </tr>\n",
       "    <tr>\n",
       "      <th>3</th>\n",
       "      <td>H-2-Db</td>\n",
       "      <td>ASLKNFKEL</td>\n",
       "      <td>6.72472</td>\n",
       "      <td>H2-Db</td>\n",
       "      <td>quantitative</td>\n",
       "      <td>Tscharke - purified MHC/competitive/radioactivity</td>\n",
       "    </tr>\n",
       "    <tr>\n",
       "      <th>4</th>\n",
       "      <td>H-2-Db</td>\n",
       "      <td>DIKNLLTACTI</td>\n",
       "      <td>27.15940</td>\n",
       "      <td>H2-Db</td>\n",
       "      <td>quantitative</td>\n",
       "      <td>Tscharke - purified MHC/competitive/radioactivity</td>\n",
       "    </tr>\n",
       "  </tbody>\n",
       "</table>\n",
       "</div>"
      ],
      "text/plain": [
       "   allele      peptide  measurement_value original_allele measurement_type  \\\n",
       "0  H-2-Db    AAIRGNDVI           10.75050           H2-Db     quantitative   \n",
       "1  H-2-Db  ALPTNEFISFL           79.21390           H2-Db     quantitative   \n",
       "2  H-2-Db  APGSPTNLEFI           14.03950           H2-Db     quantitative   \n",
       "3  H-2-Db    ASLKNFKEL            6.72472           H2-Db     quantitative   \n",
       "4  H-2-Db  DIKNLLTACTI           27.15940           H2-Db     quantitative   \n",
       "\n",
       "                                  measurement_source  \n",
       "0  Tscharke - purified MHC/competitive/radioactivity  \n",
       "1  Tscharke - purified MHC/competitive/radioactivity  \n",
       "2  Tscharke - purified MHC/competitive/radioactivity  \n",
       "3  Tscharke - purified MHC/competitive/radioactivity  \n",
       "4  Tscharke - purified MHC/competitive/radioactivity  "
      ]
     },
     "execution_count": 31,
     "metadata": {},
     "output_type": "execute_result"
    }
   ],
   "source": [
    "print(len(new_testset))\n",
    "new_testset.head()"
   ]
  },
  {
   "cell_type": "code",
   "execution_count": 32,
   "metadata": {},
   "outputs": [],
   "source": [
    "new_testset = new_testset[new_testset.measurement_value > 0].reset_index(drop = True)"
   ]
  },
  {
   "cell_type": "code",
   "execution_count": 33,
   "metadata": {},
   "outputs": [],
   "source": [
    "new_testset.to_csv(\"C:/Users/paul_/OneDrive/Desktop/master-thesis/data/new_model_testset.csv\")"
   ]
  },
  {
   "cell_type": "code",
   "execution_count": null,
   "metadata": {},
   "outputs": [],
   "source": []
  },
  {
   "cell_type": "code",
   "execution_count": 6,
   "metadata": {},
   "outputs": [],
   "source": [
    "data_class = data_transformation.data_transformation(path_data = \"/data/data_curated_20180219/curated_training_data_no_mass_spec_dbscan.csv\",\n",
    "                                                     path_mhc = \"/data/aligned_mhc_dataset.csv\",\n",
    "                                                     allele_name = None,\n",
    "                                                     quant_data = True,\n",
    "                                                     encoding = \"one-hot\")\n",
    "data_class.filter_data().loc[:, ['normalized_allele']].drop_duplicates()"
   ]
  },
  {
   "cell_type": "code",
   "execution_count": 39,
   "metadata": {},
   "outputs": [
    {
     "name": "stdout",
     "output_type": "stream",
     "text": [
      "35\n"
     ]
    },
    {
     "data": {
      "text/html": [
       "<div>\n",
       "<style scoped>\n",
       "    .dataframe tbody tr th:only-of-type {\n",
       "        vertical-align: middle;\n",
       "    }\n",
       "\n",
       "    .dataframe tbody tr th {\n",
       "        vertical-align: top;\n",
       "    }\n",
       "\n",
       "    .dataframe thead th {\n",
       "        text-align: right;\n",
       "    }\n",
       "</style>\n",
       "<table border=\"1\" class=\"dataframe\">\n",
       "  <thead>\n",
       "    <tr style=\"text-align: right;\">\n",
       "      <th></th>\n",
       "      <th>Unnamed: 0_x</th>\n",
       "      <th>allele</th>\n",
       "      <th>peptide</th>\n",
       "      <th>measurement_type</th>\n",
       "      <th>normalized_allele</th>\n",
       "      <th>mhc_sequence</th>\n",
       "      <th>Unnamed: 0_y</th>\n",
       "      <th>measurement_value_y</th>\n",
       "    </tr>\n",
       "  </thead>\n",
       "  <tbody>\n",
       "    <tr>\n",
       "      <th>0</th>\n",
       "      <td>0</td>\n",
       "      <td>H-2-Db</td>\n",
       "      <td>AAIRGNDVI</td>\n",
       "      <td>quantitative</td>\n",
       "      <td>H-2-Db</td>\n",
       "      <td>YESYYREKAGQWFVSNLYLQSLFYTWSAYAYEWY</td>\n",
       "      <td>153.5</td>\n",
       "      <td>-0.127290</td>\n",
       "    </tr>\n",
       "    <tr>\n",
       "      <th>1</th>\n",
       "      <td>307</td>\n",
       "      <td>H-2-Db</td>\n",
       "      <td>AAIRGNDVI</td>\n",
       "      <td>quantitative</td>\n",
       "      <td>H-2-Db</td>\n",
       "      <td>YESYYREKAGQWFVSNLYLQSLFYTWSAYAYEWY</td>\n",
       "      <td>153.5</td>\n",
       "      <td>-0.127290</td>\n",
       "    </tr>\n",
       "    <tr>\n",
       "      <th>2</th>\n",
       "      <td>1</td>\n",
       "      <td>H-2-Db</td>\n",
       "      <td>ALPTNEFISFL</td>\n",
       "      <td>quantitative</td>\n",
       "      <td>H-2-Db</td>\n",
       "      <td>YESYYREKAGQWFVSNLYLQSLFYTWSAYAYEWY</td>\n",
       "      <td>200.0</td>\n",
       "      <td>-0.311657</td>\n",
       "    </tr>\n",
       "    <tr>\n",
       "      <th>3</th>\n",
       "      <td>399</td>\n",
       "      <td>H-2-Db</td>\n",
       "      <td>ALPTNEFISFL</td>\n",
       "      <td>quantitative</td>\n",
       "      <td>H-2-Db</td>\n",
       "      <td>YESYYREKAGQWFVSNLYLQSLFYTWSAYAYEWY</td>\n",
       "      <td>200.0</td>\n",
       "      <td>-0.311657</td>\n",
       "    </tr>\n",
       "    <tr>\n",
       "      <th>4</th>\n",
       "      <td>2</td>\n",
       "      <td>H-2-Db</td>\n",
       "      <td>APGSPTNLEFI</td>\n",
       "      <td>quantitative</td>\n",
       "      <td>H-2-Db</td>\n",
       "      <td>YESYYREKAGQWFVSNLYLQSLFYTWSAYAYEWY</td>\n",
       "      <td>205.0</td>\n",
       "      <td>-0.151617</td>\n",
       "    </tr>\n",
       "    <tr>\n",
       "      <th>5</th>\n",
       "      <td>408</td>\n",
       "      <td>H-2-Db</td>\n",
       "      <td>APGSPTNLEFI</td>\n",
       "      <td>quantitative</td>\n",
       "      <td>H-2-Db</td>\n",
       "      <td>YESYYREKAGQWFVSNLYLQSLFYTWSAYAYEWY</td>\n",
       "      <td>205.0</td>\n",
       "      <td>-0.151617</td>\n",
       "    </tr>\n",
       "    <tr>\n",
       "      <th>6</th>\n",
       "      <td>3</td>\n",
       "      <td>H-2-Db</td>\n",
       "      <td>ASLKNFKEL</td>\n",
       "      <td>quantitative</td>\n",
       "      <td>H-2-Db</td>\n",
       "      <td>YESYYREKAGQWFVSNLYLQSLFYTWSAYAYEWY</td>\n",
       "      <td>212.0</td>\n",
       "      <td>-0.083546</td>\n",
       "    </tr>\n",
       "    <tr>\n",
       "      <th>7</th>\n",
       "      <td>421</td>\n",
       "      <td>H-2-Db</td>\n",
       "      <td>ASLKNFKEL</td>\n",
       "      <td>quantitative</td>\n",
       "      <td>H-2-Db</td>\n",
       "      <td>YESYYREKAGQWFVSNLYLQSLFYTWSAYAYEWY</td>\n",
       "      <td>212.0</td>\n",
       "      <td>-0.083546</td>\n",
       "    </tr>\n",
       "    <tr>\n",
       "      <th>8</th>\n",
       "      <td>4</td>\n",
       "      <td>H-2-Db</td>\n",
       "      <td>DIKNLLTACTI</td>\n",
       "      <td>quantitative</td>\n",
       "      <td>H-2-Db</td>\n",
       "      <td>YESYYREKAGQWFVSNLYLQSLFYTWSAYAYEWY</td>\n",
       "      <td>265.0</td>\n",
       "      <td>-0.212802</td>\n",
       "    </tr>\n",
       "    <tr>\n",
       "      <th>9</th>\n",
       "      <td>526</td>\n",
       "      <td>H-2-Db</td>\n",
       "      <td>DIKNLLTACTI</td>\n",
       "      <td>quantitative</td>\n",
       "      <td>H-2-Db</td>\n",
       "      <td>YESYYREKAGQWFVSNLYLQSLFYTWSAYAYEWY</td>\n",
       "      <td>265.0</td>\n",
       "      <td>-0.212802</td>\n",
       "    </tr>\n",
       "    <tr>\n",
       "      <th>10</th>\n",
       "      <td>5</td>\n",
       "      <td>H-2-Db</td>\n",
       "      <td>FKLILAEYI</td>\n",
       "      <td>quantitative</td>\n",
       "      <td>H-2-Db</td>\n",
       "      <td>YESYYREKAGQWFVSNLYLQSLFYTWSAYAYEWY</td>\n",
       "      <td>372.0</td>\n",
       "      <td>-0.032802</td>\n",
       "    </tr>\n",
       "    <tr>\n",
       "      <th>11</th>\n",
       "      <td>739</td>\n",
       "      <td>H-2-Db</td>\n",
       "      <td>FKLILAEYI</td>\n",
       "      <td>quantitative</td>\n",
       "      <td>H-2-Db</td>\n",
       "      <td>YESYYREKAGQWFVSNLYLQSLFYTWSAYAYEWY</td>\n",
       "      <td>372.0</td>\n",
       "      <td>-0.032802</td>\n",
       "    </tr>\n",
       "    <tr>\n",
       "      <th>12</th>\n",
       "      <td>6</td>\n",
       "      <td>H-2-Db</td>\n",
       "      <td>FMRTDMLQNM</td>\n",
       "      <td>quantitative</td>\n",
       "      <td>H-2-Db</td>\n",
       "      <td>YESYYREKAGQWFVSNLYLQSLFYTWSAYAYEWY</td>\n",
       "      <td>381.5</td>\n",
       "      <td>0.054796</td>\n",
       "    </tr>\n",
       "    <tr>\n",
       "      <th>13</th>\n",
       "      <td>757</td>\n",
       "      <td>H-2-Db</td>\n",
       "      <td>FMRTDMLQNM</td>\n",
       "      <td>quantitative</td>\n",
       "      <td>H-2-Db</td>\n",
       "      <td>YESYYREKAGQWFVSNLYLQSLFYTWSAYAYEWY</td>\n",
       "      <td>381.5</td>\n",
       "      <td>0.054796</td>\n",
       "    </tr>\n",
       "    <tr>\n",
       "      <th>14</th>\n",
       "      <td>7</td>\n",
       "      <td>H-2-Db</td>\n",
       "      <td>FQVVNPHLL</td>\n",
       "      <td>quantitative</td>\n",
       "      <td>H-2-Db</td>\n",
       "      <td>YESYYREKAGQWFVSNLYLQSLFYTWSAYAYEWY</td>\n",
       "      <td>391.5</td>\n",
       "      <td>-0.347713</td>\n",
       "    </tr>\n",
       "    <tr>\n",
       "      <th>15</th>\n",
       "      <td>776</td>\n",
       "      <td>H-2-Db</td>\n",
       "      <td>FQVVNPHLL</td>\n",
       "      <td>quantitative</td>\n",
       "      <td>H-2-Db</td>\n",
       "      <td>YESYYREKAGQWFVSNLYLQSLFYTWSAYAYEWY</td>\n",
       "      <td>391.5</td>\n",
       "      <td>-0.347713</td>\n",
       "    </tr>\n",
       "    <tr>\n",
       "      <th>16</th>\n",
       "      <td>8</td>\n",
       "      <td>H-2-Db</td>\n",
       "      <td>FTLINEEML</td>\n",
       "      <td>quantitative</td>\n",
       "      <td>H-2-Db</td>\n",
       "      <td>YESYYREKAGQWFVSNLYLQSLFYTWSAYAYEWY</td>\n",
       "      <td>398.0</td>\n",
       "      <td>-0.093773</td>\n",
       "    </tr>\n",
       "    <tr>\n",
       "      <th>17</th>\n",
       "      <td>788</td>\n",
       "      <td>H-2-Db</td>\n",
       "      <td>FTLINEEML</td>\n",
       "      <td>quantitative</td>\n",
       "      <td>H-2-Db</td>\n",
       "      <td>YESYYREKAGQWFVSNLYLQSLFYTWSAYAYEWY</td>\n",
       "      <td>398.0</td>\n",
       "      <td>-0.093773</td>\n",
       "    </tr>\n",
       "    <tr>\n",
       "      <th>18</th>\n",
       "      <td>9</td>\n",
       "      <td>H-2-Db</td>\n",
       "      <td>GIGVQGLADAF</td>\n",
       "      <td>quantitative</td>\n",
       "      <td>H-2-Db</td>\n",
       "      <td>YESYYREKAGQWFVSNLYLQSLFYTWSAYAYEWY</td>\n",
       "      <td>437.5</td>\n",
       "      <td>-0.342020</td>\n",
       "    </tr>\n",
       "    <tr>\n",
       "      <th>19</th>\n",
       "      <td>866</td>\n",
       "      <td>H-2-Db</td>\n",
       "      <td>GIGVQGLADAF</td>\n",
       "      <td>quantitative</td>\n",
       "      <td>H-2-Db</td>\n",
       "      <td>YESYYREKAGQWFVSNLYLQSLFYTWSAYAYEWY</td>\n",
       "      <td>437.5</td>\n",
       "      <td>-0.342020</td>\n",
       "    </tr>\n",
       "    <tr>\n",
       "      <th>20</th>\n",
       "      <td>10</td>\n",
       "      <td>H-2-Db</td>\n",
       "      <td>GSPTNLEFI</td>\n",
       "      <td>quantitative</td>\n",
       "      <td>H-2-Db</td>\n",
       "      <td>YESYYREKAGQWFVSNLYLQSLFYTWSAYAYEWY</td>\n",
       "      <td>452.0</td>\n",
       "      <td>0.156486</td>\n",
       "    </tr>\n",
       "    <tr>\n",
       "      <th>21</th>\n",
       "      <td>894</td>\n",
       "      <td>H-2-Db</td>\n",
       "      <td>GSPTNLEFI</td>\n",
       "      <td>quantitative</td>\n",
       "      <td>H-2-Db</td>\n",
       "      <td>YESYYREKAGQWFVSNLYLQSLFYTWSAYAYEWY</td>\n",
       "      <td>452.0</td>\n",
       "      <td>0.156486</td>\n",
       "    </tr>\n",
       "    <tr>\n",
       "      <th>22</th>\n",
       "      <td>11</td>\n",
       "      <td>H-2-Db</td>\n",
       "      <td>GTVVNKEAI</td>\n",
       "      <td>quantitative</td>\n",
       "      <td>H-2-Db</td>\n",
       "      <td>YESYYREKAGQWFVSNLYLQSLFYTWSAYAYEWY</td>\n",
       "      <td>458.5</td>\n",
       "      <td>-0.056217</td>\n",
       "    </tr>\n",
       "    <tr>\n",
       "      <th>23</th>\n",
       "      <td>906</td>\n",
       "      <td>H-2-Db</td>\n",
       "      <td>GTVVNKEAI</td>\n",
       "      <td>quantitative</td>\n",
       "      <td>H-2-Db</td>\n",
       "      <td>YESYYREKAGQWFVSNLYLQSLFYTWSAYAYEWY</td>\n",
       "      <td>458.5</td>\n",
       "      <td>-0.056217</td>\n",
       "    </tr>\n",
       "    <tr>\n",
       "      <th>24</th>\n",
       "      <td>12</td>\n",
       "      <td>H-2-Db</td>\n",
       "      <td>IAIVNYANL</td>\n",
       "      <td>quantitative</td>\n",
       "      <td>H-2-Db</td>\n",
       "      <td>YESYYREKAGQWFVSNLYLQSLFYTWSAYAYEWY</td>\n",
       "      <td>482.5</td>\n",
       "      <td>0.156486</td>\n",
       "    </tr>\n",
       "    <tr>\n",
       "      <th>25</th>\n",
       "      <td>953</td>\n",
       "      <td>H-2-Db</td>\n",
       "      <td>IAIVNYANL</td>\n",
       "      <td>quantitative</td>\n",
       "      <td>H-2-Db</td>\n",
       "      <td>YESYYREKAGQWFVSNLYLQSLFYTWSAYAYEWY</td>\n",
       "      <td>482.5</td>\n",
       "      <td>0.156486</td>\n",
       "    </tr>\n",
       "    <tr>\n",
       "      <th>26</th>\n",
       "      <td>13</td>\n",
       "      <td>H-2-Db</td>\n",
       "      <td>IAPRSGLSL</td>\n",
       "      <td>quantitative</td>\n",
       "      <td>H-2-Db</td>\n",
       "      <td>YESYYREKAGQWFVSNLYLQSLFYTWSAYAYEWY</td>\n",
       "      <td>484.5</td>\n",
       "      <td>-0.370870</td>\n",
       "    </tr>\n",
       "    <tr>\n",
       "      <th>27</th>\n",
       "      <td>956</td>\n",
       "      <td>H-2-Db</td>\n",
       "      <td>IAPRSGLSL</td>\n",
       "      <td>quantitative</td>\n",
       "      <td>H-2-Db</td>\n",
       "      <td>YESYYREKAGQWFVSNLYLQSLFYTWSAYAYEWY</td>\n",
       "      <td>484.5</td>\n",
       "      <td>-0.370870</td>\n",
       "    </tr>\n",
       "    <tr>\n",
       "      <th>28</th>\n",
       "      <td>14</td>\n",
       "      <td>H-2-Db</td>\n",
       "      <td>ISIKLTDSL</td>\n",
       "      <td>quantitative</td>\n",
       "      <td>H-2-Db</td>\n",
       "      <td>YESYYREKAGQWFVSNLYLQSLFYTWSAYAYEWY</td>\n",
       "      <td>529.0</td>\n",
       "      <td>-0.338591</td>\n",
       "    </tr>\n",
       "    <tr>\n",
       "      <th>29</th>\n",
       "      <td>1044</td>\n",
       "      <td>H-2-Db</td>\n",
       "      <td>ISIKLTDSL</td>\n",
       "      <td>quantitative</td>\n",
       "      <td>H-2-Db</td>\n",
       "      <td>YESYYREKAGQWFVSNLYLQSLFYTWSAYAYEWY</td>\n",
       "      <td>529.0</td>\n",
       "      <td>-0.338591</td>\n",
       "    </tr>\n",
       "    <tr>\n",
       "      <th>...</th>\n",
       "      <td>...</td>\n",
       "      <td>...</td>\n",
       "      <td>...</td>\n",
       "      <td>...</td>\n",
       "      <td>...</td>\n",
       "      <td>...</td>\n",
       "      <td>...</td>\n",
       "      <td>...</td>\n",
       "    </tr>\n",
       "    <tr>\n",
       "      <th>835</th>\n",
       "      <td>2151</td>\n",
       "      <td>HLA-B*27:05</td>\n",
       "      <td>TRWMLIEAEL</td>\n",
       "      <td>quantitative</td>\n",
       "      <td>HLA-B*27:05</td>\n",
       "      <td>YHTEYREICAKTDEDTLYLNYHDYTWAVLAYEWY</td>\n",
       "      <td>2151.0</td>\n",
       "      <td>-0.259401</td>\n",
       "    </tr>\n",
       "    <tr>\n",
       "      <th>836</th>\n",
       "      <td>760</td>\n",
       "      <td>HLA-B*53:01</td>\n",
       "      <td>FPTGLTYSQL</td>\n",
       "      <td>quantitative</td>\n",
       "      <td>HLA-B*53:01</td>\n",
       "      <td>YYATYRNIFTNTYENIAYIRYDSYTWAVLAYLWY</td>\n",
       "      <td>760.0</td>\n",
       "      <td>-0.294799</td>\n",
       "    </tr>\n",
       "    <tr>\n",
       "      <th>837</th>\n",
       "      <td>786</td>\n",
       "      <td>HLA-B*53:01</td>\n",
       "      <td>FTAGLTYSQL</td>\n",
       "      <td>quantitative</td>\n",
       "      <td>HLA-B*53:01</td>\n",
       "      <td>YYATYRNIFTNTYENIAYIRYDSYTWAVLAYLWY</td>\n",
       "      <td>786.0</td>\n",
       "      <td>-0.760630</td>\n",
       "    </tr>\n",
       "    <tr>\n",
       "      <th>838</th>\n",
       "      <td>793</td>\n",
       "      <td>HLA-B*53:01</td>\n",
       "      <td>FVAGLTYSQL</td>\n",
       "      <td>quantitative</td>\n",
       "      <td>HLA-B*53:01</td>\n",
       "      <td>YYATYRNIFTNTYENIAYIRYDSYTWAVLAYLWY</td>\n",
       "      <td>793.0</td>\n",
       "      <td>-0.677096</td>\n",
       "    </tr>\n",
       "    <tr>\n",
       "      <th>839</th>\n",
       "      <td>795</td>\n",
       "      <td>HLA-B*53:01</td>\n",
       "      <td>FVFSTSFYLI</td>\n",
       "      <td>quantitative</td>\n",
       "      <td>HLA-B*53:01</td>\n",
       "      <td>YYATYRNIFTNTYENIAYIRYDSYTWAVLAYLWY</td>\n",
       "      <td>795.0</td>\n",
       "      <td>-0.415643</td>\n",
       "    </tr>\n",
       "    <tr>\n",
       "      <th>840</th>\n",
       "      <td>912</td>\n",
       "      <td>HLA-B*53:01</td>\n",
       "      <td>HALMSIISTF</td>\n",
       "      <td>quantitative</td>\n",
       "      <td>HLA-B*53:01</td>\n",
       "      <td>YYATYRNIFTNTYENIAYIRYDSYTWAVLAYLWY</td>\n",
       "      <td>912.0</td>\n",
       "      <td>-0.385974</td>\n",
       "    </tr>\n",
       "    <tr>\n",
       "      <th>841</th>\n",
       "      <td>940</td>\n",
       "      <td>HLA-B*53:01</td>\n",
       "      <td>HSLMSIISTF</td>\n",
       "      <td>quantitative</td>\n",
       "      <td>HLA-B*53:01</td>\n",
       "      <td>YYATYRNIFTNTYENIAYIRYDSYTWAVLAYLWY</td>\n",
       "      <td>940.0</td>\n",
       "      <td>-0.615681</td>\n",
       "    </tr>\n",
       "    <tr>\n",
       "      <th>842</th>\n",
       "      <td>948</td>\n",
       "      <td>HLA-B*53:01</td>\n",
       "      <td>HTLMSIISTF</td>\n",
       "      <td>quantitative</td>\n",
       "      <td>HLA-B*53:01</td>\n",
       "      <td>YYATYRNIFTNTYENIAYIRYDSYTWAVLAYLWY</td>\n",
       "      <td>948.0</td>\n",
       "      <td>-0.661878</td>\n",
       "    </tr>\n",
       "    <tr>\n",
       "      <th>843</th>\n",
       "      <td>1197</td>\n",
       "      <td>HLA-B*53:01</td>\n",
       "      <td>KTPLGLVDLF</td>\n",
       "      <td>quantitative</td>\n",
       "      <td>HLA-B*53:01</td>\n",
       "      <td>YYATYRNIFTNTYENIAYIRYDSYTWAVLAYLWY</td>\n",
       "      <td>1197.0</td>\n",
       "      <td>-0.449250</td>\n",
       "    </tr>\n",
       "    <tr>\n",
       "      <th>844</th>\n",
       "      <td>1528</td>\n",
       "      <td>HLA-B*53:01</td>\n",
       "      <td>NPYENILYKI</td>\n",
       "      <td>quantitative</td>\n",
       "      <td>HLA-B*53:01</td>\n",
       "      <td>YYATYRNIFTNTYENIAYIRYDSYTWAVLAYLWY</td>\n",
       "      <td>1528.0</td>\n",
       "      <td>-0.356017</td>\n",
       "    </tr>\n",
       "    <tr>\n",
       "      <th>845</th>\n",
       "      <td>1707</td>\n",
       "      <td>HLA-B*53:01</td>\n",
       "      <td>QPMSGCYIHF</td>\n",
       "      <td>quantitative</td>\n",
       "      <td>HLA-B*53:01</td>\n",
       "      <td>YYATYRNIFTNTYENIAYIRYDSYTWAVLAYLWY</td>\n",
       "      <td>1707.0</td>\n",
       "      <td>-0.353083</td>\n",
       "    </tr>\n",
       "    <tr>\n",
       "      <th>846</th>\n",
       "      <td>2145</td>\n",
       "      <td>HLA-B*53:01</td>\n",
       "      <td>TPGGYCLTRW</td>\n",
       "      <td>quantitative</td>\n",
       "      <td>HLA-B*53:01</td>\n",
       "      <td>YYATYRNIFTNTYENIAYIRYDSYTWAVLAYLWY</td>\n",
       "      <td>2145.0</td>\n",
       "      <td>-0.257324</td>\n",
       "    </tr>\n",
       "    <tr>\n",
       "      <th>847</th>\n",
       "      <td>2385</td>\n",
       "      <td>HLA-B*53:01</td>\n",
       "      <td>YPNSSDLDRL</td>\n",
       "      <td>quantitative</td>\n",
       "      <td>HLA-B*53:01</td>\n",
       "      <td>YYATYRNIFTNTYENIAYIRYDSYTWAVLAYLWY</td>\n",
       "      <td>2385.0</td>\n",
       "      <td>-0.334121</td>\n",
       "    </tr>\n",
       "    <tr>\n",
       "      <th>848</th>\n",
       "      <td>1178</td>\n",
       "      <td>HLA-B*27:01</td>\n",
       "      <td>KRGILTLKY</td>\n",
       "      <td>quantitative</td>\n",
       "      <td>HLA-B*27:01</td>\n",
       "      <td>YHTEYREICAKTYENTAYLNYHDYTWAVLAYEWY</td>\n",
       "      <td>1178.0</td>\n",
       "      <td>-0.498802</td>\n",
       "    </tr>\n",
       "    <tr>\n",
       "      <th>849</th>\n",
       "      <td>1180</td>\n",
       "      <td>HLA-B*27:01</td>\n",
       "      <td>KRYKSIVKY</td>\n",
       "      <td>quantitative</td>\n",
       "      <td>HLA-B*27:01</td>\n",
       "      <td>YHTEYREICAKTYENTAYLNYHDYTWAVLAYEWY</td>\n",
       "      <td>1180.0</td>\n",
       "      <td>-0.546014</td>\n",
       "    </tr>\n",
       "    <tr>\n",
       "      <th>850</th>\n",
       "      <td>1839</td>\n",
       "      <td>HLA-B*27:01</td>\n",
       "      <td>RRFTRPEH</td>\n",
       "      <td>quantitative</td>\n",
       "      <td>HLA-B*27:01</td>\n",
       "      <td>YHTEYREICAKTYENTAYLNYHDYTWAVLAYEWY</td>\n",
       "      <td>1839.0</td>\n",
       "      <td>-0.971640</td>\n",
       "    </tr>\n",
       "    <tr>\n",
       "      <th>851</th>\n",
       "      <td>1841</td>\n",
       "      <td>HLA-B*27:01</td>\n",
       "      <td>RRFVNVVPTF</td>\n",
       "      <td>quantitative</td>\n",
       "      <td>HLA-B*27:01</td>\n",
       "      <td>YHTEYREICAKTYENTAYLNYHDYTWAVLAYEWY</td>\n",
       "      <td>1841.0</td>\n",
       "      <td>-0.536277</td>\n",
       "    </tr>\n",
       "    <tr>\n",
       "      <th>852</th>\n",
       "      <td>1198</td>\n",
       "      <td>HLA-B*58:02</td>\n",
       "      <td>KTPLGLVDLF</td>\n",
       "      <td>quantitative</td>\n",
       "      <td>HLA-B*58:02</td>\n",
       "      <td>YYATYGENMASTYENIAYLWYDSYTWAVLAYLWY</td>\n",
       "      <td>1198.0</td>\n",
       "      <td>-0.753853</td>\n",
       "    </tr>\n",
       "    <tr>\n",
       "      <th>853</th>\n",
       "      <td>2045</td>\n",
       "      <td>HLA-B*58:02</td>\n",
       "      <td>STSFYLISIF</td>\n",
       "      <td>quantitative</td>\n",
       "      <td>HLA-B*58:02</td>\n",
       "      <td>YYATYGENMASTYENIAYLWYDSYTWAVLAYLWY</td>\n",
       "      <td>2045.0</td>\n",
       "      <td>-0.763959</td>\n",
       "    </tr>\n",
       "    <tr>\n",
       "      <th>854</th>\n",
       "      <td>1324</td>\n",
       "      <td>HLA-B*08:01</td>\n",
       "      <td>LPRAKKLIL</td>\n",
       "      <td>quantitative</td>\n",
       "      <td>HLA-B*08:01</td>\n",
       "      <td>YDSEYRNIFTNTDESNLYLSYNYYTWAVDAYTWY</td>\n",
       "      <td>1324.0</td>\n",
       "      <td>-0.422994</td>\n",
       "    </tr>\n",
       "    <tr>\n",
       "      <th>855</th>\n",
       "      <td>1327</td>\n",
       "      <td>HLA-B*08:01</td>\n",
       "      <td>LPSMHRHQI</td>\n",
       "      <td>quantitative</td>\n",
       "      <td>HLA-B*08:01</td>\n",
       "      <td>YDSEYRNIFTNTDESNLYLSYNYYTWAVDAYTWY</td>\n",
       "      <td>1327.0</td>\n",
       "      <td>-0.446362</td>\n",
       "    </tr>\n",
       "    <tr>\n",
       "      <th>856</th>\n",
       "      <td>1522</td>\n",
       "      <td>HLA-B*08:01</td>\n",
       "      <td>NLRYFAKSL</td>\n",
       "      <td>quantitative</td>\n",
       "      <td>HLA-B*08:01</td>\n",
       "      <td>YDSEYRNIFTNTDESNLYLSYNYYTWAVDAYTWY</td>\n",
       "      <td>1522.0</td>\n",
       "      <td>-0.394497</td>\n",
       "    </tr>\n",
       "    <tr>\n",
       "      <th>857</th>\n",
       "      <td>1986</td>\n",
       "      <td>HLA-B*08:01</td>\n",
       "      <td>SLRSHHYSL</td>\n",
       "      <td>quantitative</td>\n",
       "      <td>HLA-B*08:01</td>\n",
       "      <td>YDSEYRNIFTNTDESNLYLSYNYYTWAVDAYTWY</td>\n",
       "      <td>1986.0</td>\n",
       "      <td>-0.404720</td>\n",
       "    </tr>\n",
       "    <tr>\n",
       "      <th>858</th>\n",
       "      <td>1448</td>\n",
       "      <td>HLA-C*06:02</td>\n",
       "      <td>MRMAWGGSYI</td>\n",
       "      <td>quantitative</td>\n",
       "      <td>HLA-C*06:02</td>\n",
       "      <td>YDSGYREKYRQADVNKLYLWYDSYTWAEWAYTWY</td>\n",
       "      <td>1448.0</td>\n",
       "      <td>-0.520772</td>\n",
       "    </tr>\n",
       "    <tr>\n",
       "      <th>859</th>\n",
       "      <td>1449</td>\n",
       "      <td>HLA-C*07:01</td>\n",
       "      <td>MRMAWGGSYI</td>\n",
       "      <td>quantitative</td>\n",
       "      <td>HLA-C*07:01</td>\n",
       "      <td>YDSGYRENYRQADVSNLYLRYDSYTLAALAYTWY</td>\n",
       "      <td>1449.0</td>\n",
       "      <td>-0.564013</td>\n",
       "    </tr>\n",
       "    <tr>\n",
       "      <th>860</th>\n",
       "      <td>1641</td>\n",
       "      <td>Mamu-A*01:01</td>\n",
       "      <td>PYDINQM</td>\n",
       "      <td>quantitative</td>\n",
       "      <td>Mamu-A*01:01</td>\n",
       "      <td>YYAMYRENMTENAVNTLYVRVEYYTWAVMAYQWY</td>\n",
       "      <td>1641.0</td>\n",
       "      <td>-0.860364</td>\n",
       "    </tr>\n",
       "    <tr>\n",
       "      <th>861</th>\n",
       "      <td>1803</td>\n",
       "      <td>HLA-B*58:01</td>\n",
       "      <td>RGDREFPW</td>\n",
       "      <td>quantitative</td>\n",
       "      <td>HLA-B*58:01</td>\n",
       "      <td>YYATYGENMASTYENIAYIRYDSYTWAVLAYLWY</td>\n",
       "      <td>1803.0</td>\n",
       "      <td>-0.394925</td>\n",
       "    </tr>\n",
       "    <tr>\n",
       "      <th>862</th>\n",
       "      <td>1811</td>\n",
       "      <td>HLA-B*58:01</td>\n",
       "      <td>RGSQGFPW</td>\n",
       "      <td>quantitative</td>\n",
       "      <td>HLA-B*58:01</td>\n",
       "      <td>YYATYGENMASTYENIAYIRYDSYTWAVLAYLWY</td>\n",
       "      <td>1811.0</td>\n",
       "      <td>-0.151487</td>\n",
       "    </tr>\n",
       "    <tr>\n",
       "      <th>863</th>\n",
       "      <td>2126</td>\n",
       "      <td>HLA-B*58:01</td>\n",
       "      <td>TGRQGFPW</td>\n",
       "      <td>quantitative</td>\n",
       "      <td>HLA-B*58:01</td>\n",
       "      <td>YYATYGENMASTYENIAYIRYDSYTWAVLAYLWY</td>\n",
       "      <td>2126.0</td>\n",
       "      <td>-0.586460</td>\n",
       "    </tr>\n",
       "    <tr>\n",
       "      <th>864</th>\n",
       "      <td>2065</td>\n",
       "      <td>HLA-C*03:03</td>\n",
       "      <td>TAKYPNSSDL</td>\n",
       "      <td>quantitative</td>\n",
       "      <td>HLA-C*03:03</td>\n",
       "      <td>YYAGYREKYRQTDVSNLYIRYDYYTWAELAYLWY</td>\n",
       "      <td>2065.0</td>\n",
       "      <td>-0.350053</td>\n",
       "    </tr>\n",
       "  </tbody>\n",
       "</table>\n",
       "<p>865 rows × 8 columns</p>\n",
       "</div>"
      ],
      "text/plain": [
       "     Unnamed: 0_x        allele      peptide measurement_type  \\\n",
       "0               0        H-2-Db    AAIRGNDVI     quantitative   \n",
       "1             307        H-2-Db    AAIRGNDVI     quantitative   \n",
       "2               1        H-2-Db  ALPTNEFISFL     quantitative   \n",
       "3             399        H-2-Db  ALPTNEFISFL     quantitative   \n",
       "4               2        H-2-Db  APGSPTNLEFI     quantitative   \n",
       "5             408        H-2-Db  APGSPTNLEFI     quantitative   \n",
       "6               3        H-2-Db    ASLKNFKEL     quantitative   \n",
       "7             421        H-2-Db    ASLKNFKEL     quantitative   \n",
       "8               4        H-2-Db  DIKNLLTACTI     quantitative   \n",
       "9             526        H-2-Db  DIKNLLTACTI     quantitative   \n",
       "10              5        H-2-Db    FKLILAEYI     quantitative   \n",
       "11            739        H-2-Db    FKLILAEYI     quantitative   \n",
       "12              6        H-2-Db   FMRTDMLQNM     quantitative   \n",
       "13            757        H-2-Db   FMRTDMLQNM     quantitative   \n",
       "14              7        H-2-Db    FQVVNPHLL     quantitative   \n",
       "15            776        H-2-Db    FQVVNPHLL     quantitative   \n",
       "16              8        H-2-Db    FTLINEEML     quantitative   \n",
       "17            788        H-2-Db    FTLINEEML     quantitative   \n",
       "18              9        H-2-Db  GIGVQGLADAF     quantitative   \n",
       "19            866        H-2-Db  GIGVQGLADAF     quantitative   \n",
       "20             10        H-2-Db    GSPTNLEFI     quantitative   \n",
       "21            894        H-2-Db    GSPTNLEFI     quantitative   \n",
       "22             11        H-2-Db    GTVVNKEAI     quantitative   \n",
       "23            906        H-2-Db    GTVVNKEAI     quantitative   \n",
       "24             12        H-2-Db    IAIVNYANL     quantitative   \n",
       "25            953        H-2-Db    IAIVNYANL     quantitative   \n",
       "26             13        H-2-Db    IAPRSGLSL     quantitative   \n",
       "27            956        H-2-Db    IAPRSGLSL     quantitative   \n",
       "28             14        H-2-Db    ISIKLTDSL     quantitative   \n",
       "29           1044        H-2-Db    ISIKLTDSL     quantitative   \n",
       "..            ...           ...          ...              ...   \n",
       "835          2151   HLA-B*27:05   TRWMLIEAEL     quantitative   \n",
       "836           760   HLA-B*53:01   FPTGLTYSQL     quantitative   \n",
       "837           786   HLA-B*53:01   FTAGLTYSQL     quantitative   \n",
       "838           793   HLA-B*53:01   FVAGLTYSQL     quantitative   \n",
       "839           795   HLA-B*53:01   FVFSTSFYLI     quantitative   \n",
       "840           912   HLA-B*53:01   HALMSIISTF     quantitative   \n",
       "841           940   HLA-B*53:01   HSLMSIISTF     quantitative   \n",
       "842           948   HLA-B*53:01   HTLMSIISTF     quantitative   \n",
       "843          1197   HLA-B*53:01   KTPLGLVDLF     quantitative   \n",
       "844          1528   HLA-B*53:01   NPYENILYKI     quantitative   \n",
       "845          1707   HLA-B*53:01   QPMSGCYIHF     quantitative   \n",
       "846          2145   HLA-B*53:01   TPGGYCLTRW     quantitative   \n",
       "847          2385   HLA-B*53:01   YPNSSDLDRL     quantitative   \n",
       "848          1178   HLA-B*27:01    KRGILTLKY     quantitative   \n",
       "849          1180   HLA-B*27:01    KRYKSIVKY     quantitative   \n",
       "850          1839   HLA-B*27:01     RRFTRPEH     quantitative   \n",
       "851          1841   HLA-B*27:01   RRFVNVVPTF     quantitative   \n",
       "852          1198   HLA-B*58:02   KTPLGLVDLF     quantitative   \n",
       "853          2045   HLA-B*58:02   STSFYLISIF     quantitative   \n",
       "854          1324   HLA-B*08:01    LPRAKKLIL     quantitative   \n",
       "855          1327   HLA-B*08:01    LPSMHRHQI     quantitative   \n",
       "856          1522   HLA-B*08:01    NLRYFAKSL     quantitative   \n",
       "857          1986   HLA-B*08:01    SLRSHHYSL     quantitative   \n",
       "858          1448   HLA-C*06:02   MRMAWGGSYI     quantitative   \n",
       "859          1449   HLA-C*07:01   MRMAWGGSYI     quantitative   \n",
       "860          1641  Mamu-A*01:01      PYDINQM     quantitative   \n",
       "861          1803   HLA-B*58:01     RGDREFPW     quantitative   \n",
       "862          1811   HLA-B*58:01     RGSQGFPW     quantitative   \n",
       "863          2126   HLA-B*58:01     TGRQGFPW     quantitative   \n",
       "864          2065   HLA-C*03:03   TAKYPNSSDL     quantitative   \n",
       "\n",
       "    normalized_allele                        mhc_sequence  Unnamed: 0_y  \\\n",
       "0              H-2-Db  YESYYREKAGQWFVSNLYLQSLFYTWSAYAYEWY         153.5   \n",
       "1              H-2-Db  YESYYREKAGQWFVSNLYLQSLFYTWSAYAYEWY         153.5   \n",
       "2              H-2-Db  YESYYREKAGQWFVSNLYLQSLFYTWSAYAYEWY         200.0   \n",
       "3              H-2-Db  YESYYREKAGQWFVSNLYLQSLFYTWSAYAYEWY         200.0   \n",
       "4              H-2-Db  YESYYREKAGQWFVSNLYLQSLFYTWSAYAYEWY         205.0   \n",
       "5              H-2-Db  YESYYREKAGQWFVSNLYLQSLFYTWSAYAYEWY         205.0   \n",
       "6              H-2-Db  YESYYREKAGQWFVSNLYLQSLFYTWSAYAYEWY         212.0   \n",
       "7              H-2-Db  YESYYREKAGQWFVSNLYLQSLFYTWSAYAYEWY         212.0   \n",
       "8              H-2-Db  YESYYREKAGQWFVSNLYLQSLFYTWSAYAYEWY         265.0   \n",
       "9              H-2-Db  YESYYREKAGQWFVSNLYLQSLFYTWSAYAYEWY         265.0   \n",
       "10             H-2-Db  YESYYREKAGQWFVSNLYLQSLFYTWSAYAYEWY         372.0   \n",
       "11             H-2-Db  YESYYREKAGQWFVSNLYLQSLFYTWSAYAYEWY         372.0   \n",
       "12             H-2-Db  YESYYREKAGQWFVSNLYLQSLFYTWSAYAYEWY         381.5   \n",
       "13             H-2-Db  YESYYREKAGQWFVSNLYLQSLFYTWSAYAYEWY         381.5   \n",
       "14             H-2-Db  YESYYREKAGQWFVSNLYLQSLFYTWSAYAYEWY         391.5   \n",
       "15             H-2-Db  YESYYREKAGQWFVSNLYLQSLFYTWSAYAYEWY         391.5   \n",
       "16             H-2-Db  YESYYREKAGQWFVSNLYLQSLFYTWSAYAYEWY         398.0   \n",
       "17             H-2-Db  YESYYREKAGQWFVSNLYLQSLFYTWSAYAYEWY         398.0   \n",
       "18             H-2-Db  YESYYREKAGQWFVSNLYLQSLFYTWSAYAYEWY         437.5   \n",
       "19             H-2-Db  YESYYREKAGQWFVSNLYLQSLFYTWSAYAYEWY         437.5   \n",
       "20             H-2-Db  YESYYREKAGQWFVSNLYLQSLFYTWSAYAYEWY         452.0   \n",
       "21             H-2-Db  YESYYREKAGQWFVSNLYLQSLFYTWSAYAYEWY         452.0   \n",
       "22             H-2-Db  YESYYREKAGQWFVSNLYLQSLFYTWSAYAYEWY         458.5   \n",
       "23             H-2-Db  YESYYREKAGQWFVSNLYLQSLFYTWSAYAYEWY         458.5   \n",
       "24             H-2-Db  YESYYREKAGQWFVSNLYLQSLFYTWSAYAYEWY         482.5   \n",
       "25             H-2-Db  YESYYREKAGQWFVSNLYLQSLFYTWSAYAYEWY         482.5   \n",
       "26             H-2-Db  YESYYREKAGQWFVSNLYLQSLFYTWSAYAYEWY         484.5   \n",
       "27             H-2-Db  YESYYREKAGQWFVSNLYLQSLFYTWSAYAYEWY         484.5   \n",
       "28             H-2-Db  YESYYREKAGQWFVSNLYLQSLFYTWSAYAYEWY         529.0   \n",
       "29             H-2-Db  YESYYREKAGQWFVSNLYLQSLFYTWSAYAYEWY         529.0   \n",
       "..                ...                                 ...           ...   \n",
       "835       HLA-B*27:05  YHTEYREICAKTDEDTLYLNYHDYTWAVLAYEWY        2151.0   \n",
       "836       HLA-B*53:01  YYATYRNIFTNTYENIAYIRYDSYTWAVLAYLWY         760.0   \n",
       "837       HLA-B*53:01  YYATYRNIFTNTYENIAYIRYDSYTWAVLAYLWY         786.0   \n",
       "838       HLA-B*53:01  YYATYRNIFTNTYENIAYIRYDSYTWAVLAYLWY         793.0   \n",
       "839       HLA-B*53:01  YYATYRNIFTNTYENIAYIRYDSYTWAVLAYLWY         795.0   \n",
       "840       HLA-B*53:01  YYATYRNIFTNTYENIAYIRYDSYTWAVLAYLWY         912.0   \n",
       "841       HLA-B*53:01  YYATYRNIFTNTYENIAYIRYDSYTWAVLAYLWY         940.0   \n",
       "842       HLA-B*53:01  YYATYRNIFTNTYENIAYIRYDSYTWAVLAYLWY         948.0   \n",
       "843       HLA-B*53:01  YYATYRNIFTNTYENIAYIRYDSYTWAVLAYLWY        1197.0   \n",
       "844       HLA-B*53:01  YYATYRNIFTNTYENIAYIRYDSYTWAVLAYLWY        1528.0   \n",
       "845       HLA-B*53:01  YYATYRNIFTNTYENIAYIRYDSYTWAVLAYLWY        1707.0   \n",
       "846       HLA-B*53:01  YYATYRNIFTNTYENIAYIRYDSYTWAVLAYLWY        2145.0   \n",
       "847       HLA-B*53:01  YYATYRNIFTNTYENIAYIRYDSYTWAVLAYLWY        2385.0   \n",
       "848       HLA-B*27:01  YHTEYREICAKTYENTAYLNYHDYTWAVLAYEWY        1178.0   \n",
       "849       HLA-B*27:01  YHTEYREICAKTYENTAYLNYHDYTWAVLAYEWY        1180.0   \n",
       "850       HLA-B*27:01  YHTEYREICAKTYENTAYLNYHDYTWAVLAYEWY        1839.0   \n",
       "851       HLA-B*27:01  YHTEYREICAKTYENTAYLNYHDYTWAVLAYEWY        1841.0   \n",
       "852       HLA-B*58:02  YYATYGENMASTYENIAYLWYDSYTWAVLAYLWY        1198.0   \n",
       "853       HLA-B*58:02  YYATYGENMASTYENIAYLWYDSYTWAVLAYLWY        2045.0   \n",
       "854       HLA-B*08:01  YDSEYRNIFTNTDESNLYLSYNYYTWAVDAYTWY        1324.0   \n",
       "855       HLA-B*08:01  YDSEYRNIFTNTDESNLYLSYNYYTWAVDAYTWY        1327.0   \n",
       "856       HLA-B*08:01  YDSEYRNIFTNTDESNLYLSYNYYTWAVDAYTWY        1522.0   \n",
       "857       HLA-B*08:01  YDSEYRNIFTNTDESNLYLSYNYYTWAVDAYTWY        1986.0   \n",
       "858       HLA-C*06:02  YDSGYREKYRQADVNKLYLWYDSYTWAEWAYTWY        1448.0   \n",
       "859       HLA-C*07:01  YDSGYRENYRQADVSNLYLRYDSYTLAALAYTWY        1449.0   \n",
       "860      Mamu-A*01:01  YYAMYRENMTENAVNTLYVRVEYYTWAVMAYQWY        1641.0   \n",
       "861       HLA-B*58:01  YYATYGENMASTYENIAYIRYDSYTWAVLAYLWY        1803.0   \n",
       "862       HLA-B*58:01  YYATYGENMASTYENIAYIRYDSYTWAVLAYLWY        1811.0   \n",
       "863       HLA-B*58:01  YYATYGENMASTYENIAYIRYDSYTWAVLAYLWY        2126.0   \n",
       "864       HLA-C*03:03  YYAGYREKYRQTDVSNLYIRYDYYTWAELAYLWY        2065.0   \n",
       "\n",
       "     measurement_value_y  \n",
       "0              -0.127290  \n",
       "1              -0.127290  \n",
       "2              -0.311657  \n",
       "3              -0.311657  \n",
       "4              -0.151617  \n",
       "5              -0.151617  \n",
       "6              -0.083546  \n",
       "7              -0.083546  \n",
       "8              -0.212802  \n",
       "9              -0.212802  \n",
       "10             -0.032802  \n",
       "11             -0.032802  \n",
       "12              0.054796  \n",
       "13              0.054796  \n",
       "14             -0.347713  \n",
       "15             -0.347713  \n",
       "16             -0.093773  \n",
       "17             -0.093773  \n",
       "18             -0.342020  \n",
       "19             -0.342020  \n",
       "20              0.156486  \n",
       "21              0.156486  \n",
       "22             -0.056217  \n",
       "23             -0.056217  \n",
       "24              0.156486  \n",
       "25              0.156486  \n",
       "26             -0.370870  \n",
       "27             -0.370870  \n",
       "28             -0.338591  \n",
       "29             -0.338591  \n",
       "..                   ...  \n",
       "835            -0.259401  \n",
       "836            -0.294799  \n",
       "837            -0.760630  \n",
       "838            -0.677096  \n",
       "839            -0.415643  \n",
       "840            -0.385974  \n",
       "841            -0.615681  \n",
       "842            -0.661878  \n",
       "843            -0.449250  \n",
       "844            -0.356017  \n",
       "845            -0.353083  \n",
       "846            -0.257324  \n",
       "847            -0.334121  \n",
       "848            -0.498802  \n",
       "849            -0.546014  \n",
       "850            -0.971640  \n",
       "851            -0.536277  \n",
       "852            -0.753853  \n",
       "853            -0.763959  \n",
       "854            -0.422994  \n",
       "855            -0.446362  \n",
       "856            -0.394497  \n",
       "857            -0.404720  \n",
       "858            -0.520772  \n",
       "859            -0.564013  \n",
       "860            -0.860364  \n",
       "861            -0.394925  \n",
       "862            -0.151487  \n",
       "863            -0.586460  \n",
       "864            -0.350053  \n",
       "\n",
       "[865 rows x 8 columns]"
      ]
     },
     "execution_count": 39,
     "metadata": {},
     "output_type": "execute_result"
    }
   ],
   "source": [
    "data_class = data_transformation.data_transformation(path_data = \"/data/new_model_testset.csv\",\n",
    "                                                     path_mhc = \"/data/aligned_mhc_dataset.csv\",\n",
    "                                                     allele_name = None,\n",
    "                                                     quant_data = True,\n",
    "                                                     dbscan = False,\n",
    "                                                     encoding = \"one-hot\")\n",
    "print(len(data_class.filter_data().loc[:, ['normalized_allele']].drop_duplicates()))\n",
    "data_class.filter_data()"
   ]
  },
  {
   "cell_type": "code",
   "execution_count": null,
   "metadata": {},
   "outputs": [],
   "source": []
  }
 ],
 "metadata": {
  "kernelspec": {
   "display_name": "Python 3",
   "language": "python",
   "name": "python3"
  },
  "language_info": {
   "codemirror_mode": {
    "name": "ipython",
    "version": 3
   },
   "file_extension": ".py",
   "mimetype": "text/x-python",
   "name": "python",
   "nbconvert_exporter": "python",
   "pygments_lexer": "ipython3",
   "version": "3.7.5"
  }
 },
 "nbformat": 4,
 "nbformat_minor": 4
}
